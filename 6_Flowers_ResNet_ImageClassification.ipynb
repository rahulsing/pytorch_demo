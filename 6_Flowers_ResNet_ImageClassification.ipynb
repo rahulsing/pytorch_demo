{
  "nbformat": 4,
  "nbformat_minor": 0,
  "metadata": {
    "colab": {
      "name": "Untitled5.ipynb",
      "version": "0.3.2",
      "provenance": [],
      "collapsed_sections": [],
      "include_colab_link": true
    },
    "kernelspec": {
      "name": "python3",
      "display_name": "Python 3"
    }
  },
  "cells": [
    {
      "cell_type": "markdown",
      "metadata": {
        "id": "view-in-github",
        "colab_type": "text"
      },
      "source": [
        "<a href=\"https://colab.research.google.com/github/rahulsing/pytorch_demo/blob/master/6_Flowers_ResNet_ImageClassification.ipynb\" target=\"_parent\"><img src=\"https://colab.research.google.com/assets/colab-badge.svg\" alt=\"Open In Colab\"/></a>"
      ]
    },
    {
      "metadata": {
        "id": "5j_DGHFtQuCb",
        "colab_type": "text"
      },
      "cell_type": "markdown",
      "source": [
        "**Transfer Learning:** The practice of re-using a trained neural network that solves a similar problem to yours, freezing the lower layers and only re-training the higher layer\n",
        "\n",
        "** re-using a trained neural network:** aviods buliding NN architeture from scratch, also saves on time and effort of re-training from scratch\n",
        " \n",
        "**Solves a similar problem to yours **: example : language translation, image recognization are classic example\n",
        "          \n",
        "*   Existing Model trained for English to Spanish translation, may be possible to use this for Hindi to English translation\n",
        "\n",
        "**Freezing the lower layers**: Reuse as-is without even changing the parameter weights\n",
        "\n",
        "\n",
        "Higher layer are most specific to your use case, mostly likely the number of output varies for different use cases though the use case similar, so needs to be re-trained\n",
        " \n",
        "\n",
        "---\n",
        "\n"
      ]
    },
    {
      "metadata": {
        "id": "V9Kc-V-4SkaE",
        "colab_type": "text"
      },
      "cell_type": "markdown",
      "source": [
        "**Benifits of Transfer Learning: **\n",
        "\n",
        "\"Ride on the shoulders of gaints\"\n",
        "*   NN architecture\n",
        "*   Choice of initalization\n",
        "*  Activation Funcation\n",
        "*  Number and density of Layers\n",
        "\n",
        "\n",
        "\"Do more with less\"\n",
        "Make do more with less data\n",
        "- English to French - Lots of traning data\n",
        "- Hindi to French -  Little or no training data\n",
        "\n",
        "\n",
        "\"Faster and cheaper\"\n",
        "Training process is far faster, easier\n",
        "-smaller training data\n",
        "-only higher layer to train\n",
        "-in a cloud-enabled world, less-time => less memory\n",
        "\n",
        "\n",
        "---\n",
        "\n",
        "\n",
        "\n",
        "\n",
        "\n"
      ]
    },
    {
      "metadata": {
        "id": "6-Ykx8JkTscV",
        "colab_type": "text"
      },
      "cell_type": "markdown",
      "source": [
        "\n",
        "\n",
        "Supports for several famous NN architecture\n",
        "\n",
        "**torchvision.model**\n",
        "\n",
        "-Alexnet\n",
        "\n",
        "-VGG\n",
        "\n",
        "-ResNet\n",
        "\n",
        "-Inception\n",
        "\n",
        "-...\n",
        "\n"
      ]
    },
    {
      "metadata": {
        "id": "DPtyzCELSn2O",
        "colab_type": "code",
        "colab": {}
      },
      "cell_type": "code",
      "source": [
        ""
      ],
      "execution_count": 0,
      "outputs": []
    },
    {
      "metadata": {
        "id": "eQiqwORpQPzk",
        "colab_type": "code",
        "colab": {}
      },
      "cell_type": "code",
      "source": [
        "from os.path import exists\n",
        "from wheel.pep425tags import get_abbr_impl, get_impl_ver, get_abi_tag\n",
        "platform = '{}{}-{}'.format(get_abbr_impl(), get_impl_ver(), get_abi_tag())\n",
        "cuda_output = !ldconfig -p|grep cudart.so|sed -e 's/.*\\.\\([0-9]*\\)\\.\\([0-9]*\\)$/cu\\1\\2/'\n",
        "accelerator = cuda_output[0] if exists('/dev/nvidia0') else 'cpu'\n",
        "\n",
        "!pip install -q http://download.pytorch.org/whl/{accelerator}/torch-1.0.0-{platform}-linux_x86_64.whl torchvision"
      ],
      "execution_count": 0,
      "outputs": []
    },
    {
      "metadata": {
        "id": "sKZF33mWQVjH",
        "colab_type": "text"
      },
      "cell_type": "markdown",
      "source": [
        "**ResNet**\n",
        "\n",
        "\n",
        "Big Inovation - \"Skip Connection\"\n",
        "\n",
        "Connect output of lower layer to far-ahead higher layers\n",
        "\n",
        "Model is forced to focus on what is not learnt by intermdiate layers\n",
        "\n",
        "Residual Learning\n",
        "\n"
      ]
    },
    {
      "metadata": {
        "id": "aYFxmFO3URKM",
        "colab_type": "code",
        "colab": {}
      },
      "cell_type": "code",
      "source": [
        "import torch\n",
        "from torchvision import datasets, models, transforms"
      ],
      "execution_count": 0,
      "outputs": []
    },
    {
      "metadata": {
        "id": "JJJ4EBYCVANM",
        "colab_type": "code",
        "colab": {}
      },
      "cell_type": "code",
      "source": [
        "# https://pytorch.org/docs/stable/torchvision/models.html\n",
        "# Imgaes fed to pre-trained models have to be normalized using these paramerts\n",
        "mean=[0.485, 0.456, 0.406]\n",
        "std=[0.229, 0.224, 0.225]"
      ],
      "execution_count": 0,
      "outputs": []
    },
    {
      "metadata": {
        "id": "CqAJKHfdV63m",
        "colab_type": "code",
        "colab": {}
      },
      "cell_type": "code",
      "source": [
        "train_transform=transforms.Compose([\n",
        "    transforms.Resize(256),\n",
        "    transforms.RandomResizedCrop(224),\n",
        "    transforms.RandomHorizontalFlip(),\n",
        "    transforms.ToTensor(),\n",
        "    transforms.Normalize(mean,std)\n",
        "])\n",
        "\n",
        "test_transform=transforms.Compose([\n",
        "    transforms.Resize(256),\n",
        "    transforms.CenterCrop(224),\n",
        "    transforms.ToTensor(),\n",
        "    transforms.Normalize(mean,std)\n",
        "])"
      ],
      "execution_count": 0,
      "outputs": []
    },
    {
      "metadata": {
        "id": "eoR81OJZYuJF",
        "colab_type": "code",
        "outputId": "5f76bdcc-c5e3-4471-fbb3-9b04c1e75527",
        "colab": {
          "base_uri": "https://localhost:8080/",
          "height": 54
        }
      },
      "cell_type": "code",
      "source": [
        "from google.colab import drive\n",
        "drive.mount('/content/gdrive')"
      ],
      "execution_count": 27,
      "outputs": [
        {
          "output_type": "stream",
          "text": [
            "Drive already mounted at /content/gdrive; to attempt to forcibly remount, call drive.mount(\"/content/gdrive\", force_remount=True).\n"
          ],
          "name": "stdout"
        }
      ]
    },
    {
      "metadata": {
        "id": "9VrH2MgPfjqO",
        "colab_type": "code",
        "colab": {}
      },
      "cell_type": "code",
      "source": [
        "import zipfile\n",
        "zip=zipfile.ZipFile(\"/content/gdrive/My Drive/datasets/flowers_.zip\")\n",
        "zip.extractall(\"datasets\")"
      ],
      "execution_count": 0,
      "outputs": []
    },
    {
      "metadata": {
        "id": "MBaF-KlieB9O",
        "colab_type": "code",
        "colab": {
          "base_uri": "https://localhost:8080/",
          "height": 34
        },
        "outputId": "9d46ecce-8a61-49b0-b6cf-dc7694ffe9c5"
      },
      "cell_type": "code",
      "source": [
        "!ls datasets\n",
        "#data_dir=\"\""
      ],
      "execution_count": 49,
      "outputs": [
        {
          "output_type": "stream",
          "text": [
            "daisy  dandelion  flowers_  __MACOSX  rose  sunflower  tulip\n"
          ],
          "name": "stdout"
        }
      ]
    },
    {
      "metadata": {
        "id": "9xFm_8U0lkjd",
        "colab_type": "text"
      },
      "cell_type": "markdown",
      "source": [
        ""
      ]
    },
    {
      "metadata": {
        "id": "G2nRKzBCeCAy",
        "colab_type": "code",
        "colab": {}
      },
      "cell_type": "code",
      "source": [
        "data_dir=\"datasets/flowers_\""
      ],
      "execution_count": 0,
      "outputs": []
    },
    {
      "metadata": {
        "id": "QTbnSrHOeCDd",
        "colab_type": "code",
        "colab": {}
      },
      "cell_type": "code",
      "source": [
        "image_datasets={}"
      ],
      "execution_count": 0,
      "outputs": []
    },
    {
      "metadata": {
        "id": "2kvCAkyNeCJF",
        "colab_type": "code",
        "colab": {}
      },
      "cell_type": "code",
      "source": [
        "image_datasets['train']=datasets.ImageFolder(data_dir+'/train',train_transform)"
      ],
      "execution_count": 0,
      "outputs": []
    },
    {
      "metadata": {
        "id": "xX9PJxhpeCH6",
        "colab_type": "code",
        "colab": {}
      },
      "cell_type": "code",
      "source": [
        "image_datasets['test']=datasets.ImageFolder(data_dir+'/test',test_transform)"
      ],
      "execution_count": 0,
      "outputs": []
    },
    {
      "metadata": {
        "id": "1fmBnJ3Jozkx",
        "colab_type": "code",
        "colab": {
          "base_uri": "https://localhost:8080/",
          "height": 51
        },
        "outputId": "e429a62b-1c71-4266-fc82-adbadd84ceef"
      },
      "cell_type": "code",
      "source": [
        "print(\"Training data size - %d  \" % len(image_datasets['train']))\n",
        "print(\"Test data size - %d  \" % len(image_datasets['test']))"
      ],
      "execution_count": 55,
      "outputs": [
        {
          "output_type": "stream",
          "text": [
            "Training data size - 3027  \n",
            "Test data size - 1296  \n"
          ],
          "name": "stdout"
        }
      ]
    },
    {
      "metadata": {
        "id": "HwZdWdBBo3S3",
        "colab_type": "code",
        "colab": {
          "base_uri": "https://localhost:8080/",
          "height": 34
        },
        "outputId": "eeb53318-8290-440e-d405-80e1b67a2621"
      },
      "cell_type": "code",
      "source": [
        "class_names=image_datasets['train'].classes\n",
        "class_names"
      ],
      "execution_count": 57,
      "outputs": [
        {
          "output_type": "execute_result",
          "data": {
            "text/plain": [
              "['daisy', 'dandelion', 'rose', 'sunflower', 'tulip']"
            ]
          },
          "metadata": {
            "tags": []
          },
          "execution_count": 57
        }
      ]
    },
    {
      "metadata": {
        "id": "y2yWaCYyo3pY",
        "colab_type": "code",
        "colab": {
          "base_uri": "https://localhost:8080/",
          "height": 377
        },
        "outputId": "7956c319-24b3-4a47-9406-e117f5f0fc75"
      },
      "cell_type": "code",
      "source": [
        "image_datasets"
      ],
      "execution_count": 58,
      "outputs": [
        {
          "output_type": "execute_result",
          "data": {
            "text/plain": [
              "{'test': Dataset ImageFolder\n",
              "     Number of datapoints: 1296\n",
              "     Root Location: datasets/flowers_/test\n",
              "     Transforms (if any): Compose(\n",
              "                              Resize(size=256, interpolation=PIL.Image.BILINEAR)\n",
              "                              CenterCrop(size=(224, 224))\n",
              "                              ToTensor()\n",
              "                              Normalize(mean=[0.485, 0.456, 0.406], std=[0.229, 0.224, 0.225])\n",
              "                          )\n",
              "     Target Transforms (if any): None, 'train': Dataset ImageFolder\n",
              "     Number of datapoints: 3027\n",
              "     Root Location: datasets/flowers_/train\n",
              "     Transforms (if any): Compose(\n",
              "                              Resize(size=256, interpolation=PIL.Image.BILINEAR)\n",
              "                              RandomResizedCrop(size=(224, 224), scale=(0.08, 1.0), ratio=(0.75, 1.3333), interpolation=PIL.Image.BILINEAR)\n",
              "                              RandomHorizontalFlip(p=0.5)\n",
              "                              ToTensor()\n",
              "                              Normalize(mean=[0.485, 0.456, 0.406], std=[0.229, 0.224, 0.225])\n",
              "                          )\n",
              "     Target Transforms (if any): None}"
            ]
          },
          "metadata": {
            "tags": []
          },
          "execution_count": 58
        }
      ]
    },
    {
      "metadata": {
        "id": "ZNhed4Cto30O",
        "colab_type": "code",
        "colab": {}
      },
      "cell_type": "code",
      "source": [
        "dataloaders={}"
      ],
      "execution_count": 0,
      "outputs": []
    },
    {
      "metadata": {
        "id": "CuWozR3uo3-I",
        "colab_type": "code",
        "colab": {}
      },
      "cell_type": "code",
      "source": [
        "dataloaders['train']=torch.utils.data.DataLoader(image_datasets['train'],batch_size=8,shuffle=True,num_workers=4)"
      ],
      "execution_count": 0,
      "outputs": []
    },
    {
      "metadata": {
        "id": "7dzw-A7do4GW",
        "colab_type": "code",
        "colab": {}
      },
      "cell_type": "code",
      "source": [
        "dataloaders['test']=torch.utils.data.DataLoader(image_datasets['test'],batch_size=8,shuffle=True,num_workers=4)"
      ],
      "execution_count": 0,
      "outputs": []
    },
    {
      "metadata": {
        "id": "B1P0A9kJo4J4",
        "colab_type": "code",
        "colab": {
          "base_uri": "https://localhost:8080/",
          "height": 51
        },
        "outputId": "a6d0768e-c950-496d-c86a-3eeb681747d4"
      },
      "cell_type": "code",
      "source": [
        "dataloaders"
      ],
      "execution_count": 63,
      "outputs": [
        {
          "output_type": "execute_result",
          "data": {
            "text/plain": [
              "{'test': <torch.utils.data.dataloader.DataLoader at 0x7f67ce1ae278>,\n",
              " 'train': <torch.utils.data.dataloader.DataLoader at 0x7f67ce1ae630>}"
            ]
          },
          "metadata": {
            "tags": []
          },
          "execution_count": 63
        }
      ]
    },
    {
      "metadata": {
        "id": "Zcx1hnUVeCGf",
        "colab_type": "code",
        "colab": {}
      },
      "cell_type": "code",
      "source": [
        "inputs,labels=next(iter(dataloaders['train']))"
      ],
      "execution_count": 0,
      "outputs": []
    },
    {
      "metadata": {
        "id": "qo8kqCK_qD6Q",
        "colab_type": "code",
        "colab": {
          "base_uri": "https://localhost:8080/",
          "height": 34
        },
        "outputId": "101ff5e9-f65c-422b-f846-84b3e90907b3"
      },
      "cell_type": "code",
      "source": [
        "inputs.shape"
      ],
      "execution_count": 67,
      "outputs": [
        {
          "output_type": "execute_result",
          "data": {
            "text/plain": [
              "torch.Size([8, 3, 224, 224])"
            ]
          },
          "metadata": {
            "tags": []
          },
          "execution_count": 67
        }
      ]
    },
    {
      "metadata": {
        "id": "6JWmoyzXqEDH",
        "colab_type": "code",
        "colab": {
          "base_uri": "https://localhost:8080/",
          "height": 34
        },
        "outputId": "ea077578-4166-4d60-c751-bda3bba06921"
      },
      "cell_type": "code",
      "source": [
        "import torchvision\n",
        "inp=torchvision.utils.make_grid(inputs)\n",
        "inp.max()"
      ],
      "execution_count": 69,
      "outputs": [
        {
          "output_type": "execute_result",
          "data": {
            "text/plain": [
              "tensor(2.6400)"
            ]
          },
          "metadata": {
            "tags": []
          },
          "execution_count": 69
        }
      ]
    },
    {
      "metadata": {
        "id": "25rKufjOqEGN",
        "colab_type": "code",
        "colab": {
          "base_uri": "https://localhost:8080/",
          "height": 34
        },
        "outputId": "b13ee916-6ca1-4ca3-da17-93546781087d"
      },
      "cell_type": "code",
      "source": [
        "import numpy as np\n",
        "np.clip(inp,0,1).max()"
      ],
      "execution_count": 70,
      "outputs": [
        {
          "output_type": "execute_result",
          "data": {
            "text/plain": [
              "tensor(1.)"
            ]
          },
          "metadata": {
            "tags": []
          },
          "execution_count": 70
        }
      ]
    },
    {
      "metadata": {
        "id": "1i4lNlVPqEOm",
        "colab_type": "code",
        "colab": {
          "base_uri": "https://localhost:8080/",
          "height": 34
        },
        "outputId": "449ddede-c84d-4ff6-a56e-2f5b60fc7b51"
      },
      "cell_type": "code",
      "source": [
        "inp.numpy().transpose((1,2,0)).shape"
      ],
      "execution_count": 71,
      "outputs": [
        {
          "output_type": "execute_result",
          "data": {
            "text/plain": [
              "(228, 1810, 3)"
            ]
          },
          "metadata": {
            "tags": []
          },
          "execution_count": 71
        }
      ]
    },
    {
      "metadata": {
        "id": "FggK9ytXrBCh",
        "colab_type": "code",
        "colab": {}
      },
      "cell_type": "code",
      "source": [
        "import matplotlib.pyplot as plt\n",
        "plt.ion()"
      ],
      "execution_count": 0,
      "outputs": []
    },
    {
      "metadata": {
        "id": "ufm5zZDCrBMp",
        "colab_type": "code",
        "colab": {}
      },
      "cell_type": "code",
      "source": [
        "def img_show(inp,title=None):\n",
        "  inp=inp.numpy().transpose((1,2,0))\n",
        "  inp=std+inp+mean\n",
        "  inp=np.clip(inp,0,1)\n",
        "  \n",
        "  plt.figure(figsize=(16,4))\n",
        "  plt.axis('off')\n",
        "  plt.imshow(inp)\n",
        "  \n",
        "  if title is not None:\n",
        "     plt.title(title)"
      ],
      "execution_count": 0,
      "outputs": []
    },
    {
      "metadata": {
        "id": "IP-srrk2rBVf",
        "colab_type": "code",
        "colab": {
          "base_uri": "https://localhost:8080/",
          "height": 195
        },
        "outputId": "a65dca1f-b825-434c-e2af-67f1ddc1faae"
      },
      "cell_type": "code",
      "source": [
        "img_show(inp,title=[class_names[x] for x in labels])"
      ],
      "execution_count": 83,
      "outputs": [
        {
          "output_type": "display_data",
          "data": {
            "image/png": "[encoded data removed]",
            "text/plain": [
              "<Figure size 1152x288 with 1 Axes>"
            ]
          },
          "metadata": {
            "tags": []
          }
        }
      ]
    },
    {
      "metadata": {
        "id": "oqccXGB-qEXw",
        "colab_type": "code",
        "colab": {}
      },
      "cell_type": "code",
      "source": [
        ""
      ],
      "execution_count": 0,
      "outputs": []
    },
    {
      "metadata": {
        "id": "wly8mh6mqEVp",
        "colab_type": "code",
        "colab": {}
      },
      "cell_type": "code",
      "source": [
        ""
      ],
      "execution_count": 0,
      "outputs": []
    },
    {
      "metadata": {
        "id": "Q74_xiXLqESE",
        "colab_type": "code",
        "colab": {}
      },
      "cell_type": "code",
      "source": [
        ""
      ],
      "execution_count": 0,
      "outputs": []
    },
    {
      "metadata": {
        "id": "4_h5_avTeB_t",
        "colab_type": "code",
        "colab": {}
      },
      "cell_type": "code",
      "source": [
        ""
      ],
      "execution_count": 0,
      "outputs": []
    },
    {
      "metadata": {
        "id": "r6LPI3Zmcbx-",
        "colab_type": "code",
        "colab": {}
      },
      "cell_type": "code",
      "source": [
        "!mkdir -p /root/.kaggle"
      ],
      "execution_count": 0,
      "outputs": []
    },
    {
      "metadata": {
        "id": "cW8Yv6fzcsj1",
        "colab_type": "code",
        "colab": {}
      },
      "cell_type": "code",
      "source": [
        "!cp /root/kaggle.json /root/.kaggle/"
      ],
      "execution_count": 0,
      "outputs": []
    },
    {
      "metadata": {
        "id": "tBN5G12Vbctl",
        "colab_type": "code",
        "colab": {}
      },
      "cell_type": "code",
      "source": [
        "#https://stackoverflow.com/questions/49310470/using-kaggle-datasets-into-google-colab\n",
        "from google.colab import files\n",
        "files.upload()"
      ],
      "execution_count": 0,
      "outputs": []
    },
    {
      "metadata": {
        "id": "faqK6gjlbk5G",
        "colab_type": "code",
        "colab": {}
      },
      "cell_type": "code",
      "source": [
        "!pip install -q kaggle"
      ],
      "execution_count": 0,
      "outputs": []
    },
    {
      "metadata": {
        "id": "sdSkYL3gbp3f",
        "colab_type": "code",
        "colab": {}
      },
      "cell_type": "code",
      "source": [
        "!mkdir -p ~/.kaggle\n",
        "!cp kaggle.json ~/.kaggle/"
      ],
      "execution_count": 0,
      "outputs": []
    },
    {
      "metadata": {
        "id": "yXYPziZobukf",
        "colab_type": "code",
        "outputId": "0770d32d-34dc-4334-b12d-f83c5b48b16c",
        "colab": {
          "base_uri": "https://localhost:8080/",
          "height": 428
        }
      },
      "cell_type": "code",
      "source": [
        "!kaggle datasets list"
      ],
      "execution_count": 0,
      "outputs": [
        {
          "output_type": "stream",
          "text": [
            "Warning: Your Kaggle API key is readable by other users on this system! To fix this, you can run 'chmod 600 /root/.kaggle/kaggle.json'\n",
            "ref                                                           title                                                size  lastUpdated          downloadCount  \n",
            "------------------------------------------------------------  --------------------------------------------------  -----  -------------------  -------------  \n",
            "mohansacharya/graduate-admissions                             Graduate Admissions                                   9KB  2018-12-28 10:07:14           3298  \n",
            "karangadiya/fifa19                                            FIFA 19 complete player dataset                       2MB  2018-12-21 03:52:59           2759  \n",
            "fivethirtyeight/fivethirtyeight-comic-characters-dataset      FiveThirtyEight Comic Characters Dataset            577KB  2019-01-13 15:02:19            464  \n",
            "xvivancos/barcelona-data-sets                                 Barcelona data sets                                   1MB  2018-12-13 14:16:53            767  \n",
            "anokas/kuzushiji                                              Kuzushiji-MNIST                                     318MB  2018-12-17 01:19:31            146  \n",
            "sid321axn/amazon-alexa-reviews                                Amazon Alexa Reviews                                164KB  2018-07-31 17:45:14           2239  \n",
            "timoboz/stock-data-dow-jones                                  EOD data for all Dow Jones stocks                     2MB  2019-01-19 08:04:19            475  \n",
            "lava18/google-play-store-apps                                 Google Play Store Apps                                2MB  2018-09-18 20:49:49          31900  \n",
            "noriuk/us-education-datasets-unification-project              U.S. Education Datasets: Unification Project         84MB  2018-12-22 17:09:05            352  \n",
            "lucabasa/dutch-energy                                         Energy consumption of the Netherlands               102MB  2018-12-17 23:41:45            450  \n",
            "thedownhill/art-images-drawings-painting-sculpture-engraving  Art Images: Drawing/Painting/Sculptures/Engravings  581MB  2018-05-25 18:00:50           1396  \n",
            "gsutters/the-human-freedom-index                              The Human Freedom Index                             451KB  2018-12-17 21:42:23            586  \n",
            "safegraph/visit-patterns-by-census-block-group                Consumer & Visitor Insights For Neighborhoods        66MB  2018-12-19 21:31:50            115  \n",
            "cityofLA/los-angeles-parking-citations                        Los Angeles Parking Citations                       244MB  2019-01-18 22:19:34            963  \n",
            "jkkphys/english-wikipedia-articles-20170820-sqlite            English Wikipedia Articles 2017-08-20 SQLite          7GB  2018-11-27 21:54:22            324  \n",
            "safegraph/census-block-group-american-community-survey-data   Census Block Group American Community Survey Data     2GB  2018-12-22 00:29:56             88  \n",
            "nguyenhoc/plane-crash                                         Historical Plane Crashes                            700KB  2018-11-21 04:32:41           2390  \n",
            "vbookshelf/v2-plant-seedlings-dataset                         V2 Plant Seedlings Dataset                            2GB  2018-12-13 14:20:52            216  \n",
            "olistbr/marketing-funnel-olist                                Marketing Funnel by Olist                           275KB  2018-11-16 14:00:20            672  \n",
            "kaggle/kaggle-survey-2018                                     2018 Kaggle ML & DS Survey Challenge                  4MB  2018-11-03 22:35:07           7007  \n"
          ],
          "name": "stdout"
        }
      ]
    },
    {
      "metadata": {
        "id": "BmW1EdoGdBEO",
        "colab_type": "code",
        "colab": {}
      },
      "cell_type": "code",
      "source": [
        ""
      ],
      "execution_count": 0,
      "outputs": []
    },
    {
      "metadata": {
        "id": "ptZ22fDjcNi2",
        "colab_type": "code",
        "outputId": "875a8ab4-974b-4742-ae9f-e4e4e56e92af",
        "colab": {
          "base_uri": "https://localhost:8080/",
          "height": 71
        }
      },
      "cell_type": "code",
      "source": [
        "!kaggle datasets list -s flower"
      ],
      "execution_count": 0,
      "outputs": [
        {
          "output_type": "stream",
          "text": [
            "Warning: Your Kaggle API key is readable by other users on this system! To fix this, you can run 'chmod 600 /root/.kaggle/kaggle.json'\n",
            "No datasets found\n"
          ],
          "name": "stdout"
        }
      ]
    },
    {
      "metadata": {
        "id": "kSa0f5wQozng",
        "colab_type": "code",
        "colab": {}
      },
      "cell_type": "code",
      "source": [
        ""
      ],
      "execution_count": 0,
      "outputs": []
    },
    {
      "metadata": {
        "id": "jJitn2e8ozqt",
        "colab_type": "code",
        "colab": {}
      },
      "cell_type": "code",
      "source": [
        ""
      ],
      "execution_count": 0,
      "outputs": []
    },
    {
      "metadata": {
        "id": "nKFxj7CVozti",
        "colab_type": "code",
        "colab": {}
      },
      "cell_type": "code",
      "source": [
        ""
      ],
      "execution_count": 0,
      "outputs": []
    }
  ]
}