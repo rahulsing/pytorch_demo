{
  "nbformat": 4,
  "nbformat_minor": 0,
  "metadata": {
    "colab": {
      "name": "00_pytorch_operations.ipynb",
      "version": "0.3.2",
      "provenance": [],
      "include_colab_link": true
    },
    "kernelspec": {
      "name": "python3",
      "display_name": "Python 3"
    }
  },
  "cells": [
    {
      "cell_type": "markdown",
      "metadata": {
        "id": "view-in-github",
        "colab_type": "text"
      },
      "source": [
        "<a href=\"https://colab.research.google.com/github/rahulsing/pytorch_demo/blob/master/00_pytorch_operations.ipynb\" target=\"_parent\"><img src=\"https://colab.research.google.com/assets/colab-badge.svg\" alt=\"Open In Colab\"/></a>"
      ]
    },
    {
      "metadata": {
        "id": "Ch7eabL-uzeA",
        "colab_type": "code",
        "colab": {
          "base_uri": "https://localhost:8080/",
          "height": 68
        },
        "outputId": "bab0fb81-33a5-479e-89e2-bd96d66d2cad"
      },
      "cell_type": "code",
      "source": [
        "# http://pytorch.org/\n",
        "from os.path import exists\n",
        "from wheel.pep425tags import get_abbr_impl, get_impl_ver, get_abi_tag\n",
        "platform = '{}{}-{}'.format(get_abbr_impl(), get_impl_ver(), get_abi_tag())\n",
        "cuda_output = !ldconfig -p|grep cudart.so|sed -e 's/.*\\.\\([0-9]*\\)\\.\\([0-9]*\\)$/cu\\1\\2/'\n",
        "accelerator = cuda_output[0] if exists('/dev/nvidia0') else 'cpu'\n",
        "\n",
        "!pip install -q http://download.pytorch.org/whl/{accelerator}/torch-0.4.1-{platform}-linux_x86_64.whl torchvision\n",
        "import torch"
      ],
      "execution_count": 1,
      "outputs": [
        {
          "output_type": "stream",
          "text": [
            "\u001b[K    100% |████████████████████████████████| 91.1MB 58.7MB/s \n",
            "\u001b[K    100% |████████████████████████████████| 2.0MB 11.0MB/s \n",
            "\u001b[31mfastai 1.0.42 has requirement torch>=1.0.0, but you'll have torch 0.4.1 which is incompatible.\u001b[0m\n",
            "\u001b[?25h"
          ],
          "name": "stdout"
        }
      ]
    },
    {
      "metadata": {
        "id": "6wVr13wmu-8Y",
        "colab_type": "code",
        "colab": {
          "base_uri": "https://localhost:8080/",
          "height": 34
        },
        "outputId": "fb69cf88-175a-4add-e6b4-32aeb10cb2b9"
      },
      "cell_type": "code",
      "source": [
        "import torch\n",
        "print(torch.__version__ )"
      ],
      "execution_count": 2,
      "outputs": [
        {
          "output_type": "stream",
          "text": [
            "0.4.1\n"
          ],
          "name": "stdout"
        }
      ]
    },
    {
      "metadata": {
        "id": "UEJKeDNeu_HX",
        "colab_type": "text"
      },
      "cell_type": "markdown",
      "source": [
        "Tensors are array of multipledimentional data, they are interoperable with Numpy Arrays\n",
        "\n",
        "Tensor form part of the computational graph of your network and record operations performed"
      ]
    },
    {
      "metadata": {
        "id": "AVt5OPZIvdsP",
        "colab_type": "code",
        "colab": {
          "base_uri": "https://localhost:8080/",
          "height": 51
        },
        "outputId": "8f3273f2-1cd7-4342-b074-42691d75114e"
      },
      "cell_type": "code",
      "source": [
        "tensor_array=torch.Tensor([[1,2],[4,5]])\n",
        "tensor_array"
      ],
      "execution_count": 4,
      "outputs": [
        {
          "output_type": "execute_result",
          "data": {
            "text/plain": [
              "tensor([[1., 2.],\n",
              "        [4., 5.]])"
            ]
          },
          "metadata": {
            "tags": []
          },
          "execution_count": 4
        }
      ]
    },
    {
      "metadata": {
        "id": "N5O9Bm_7wGIi",
        "colab_type": "code",
        "colab": {}
      },
      "cell_type": "code",
      "source": [
        "tensor_uninitialized=torch.Tensor(3,3)\n"
      ],
      "execution_count": 0,
      "outputs": []
    },
    {
      "metadata": {
        "id": "MbpE9lpAwGHh",
        "colab_type": "code",
        "colab": {
          "base_uri": "https://localhost:8080/",
          "height": 34
        },
        "outputId": "a49709e9-5b57-49ca-e807-4dbe83ac32cb"
      },
      "cell_type": "code",
      "source": [
        "# print total number of elements space\n",
        "torch.numel(tensor_uninitialized)"
      ],
      "execution_count": 13,
      "outputs": [
        {
          "output_type": "execute_result",
          "data": {
            "text/plain": [
              "9"
            ]
          },
          "metadata": {
            "tags": []
          },
          "execution_count": 13
        }
      ]
    },
    {
      "metadata": {
        "id": "_WpwJ5p9w33I",
        "colab_type": "code",
        "colab": {
          "base_uri": "https://localhost:8080/",
          "height": 51
        },
        "outputId": "ed9d11ac-eaa8-4fa1-aafc-1ed1961e5d3d"
      },
      "cell_type": "code",
      "source": [
        "# randomaly intialize with some value\n",
        "tensor_initialized=torch.rand(2,3)\n",
        "tensor_initialized"
      ],
      "execution_count": 16,
      "outputs": [
        {
          "output_type": "execute_result",
          "data": {
            "text/plain": [
              "tensor([[0.3865, 0.6662, 0.0927],\n",
              "        [0.6180, 0.7982, 0.2300]])"
            ]
          },
          "metadata": {
            "tags": []
          },
          "execution_count": 16
        }
      ]
    },
    {
      "metadata": {
        "id": "iS-Vk-0kw343",
        "colab_type": "code",
        "colab": {
          "base_uri": "https://localhost:8080/",
          "height": 34
        },
        "outputId": "c01f07f8-df8d-4297-9b95-abf64b249b89"
      },
      "cell_type": "code",
      "source": [
        "# tensor with specified data type\n",
        "\n",
        "tensor_long=torch.LongTensor([1.0,2.0,3.0])\n",
        "tensor_long"
      ],
      "execution_count": 18,
      "outputs": [
        {
          "output_type": "execute_result",
          "data": {
            "text/plain": [
              "tensor([1, 2, 3])"
            ]
          },
          "metadata": {
            "tags": []
          },
          "execution_count": 18
        }
      ]
    },
    {
      "metadata": {
        "id": "4v5RBwvZxfSB",
        "colab_type": "code",
        "colab": {
          "base_uri": "https://localhost:8080/",
          "height": 34
        },
        "outputId": "aba68bd2-9ec0-4abe-bdae-9c367be3420e"
      },
      "cell_type": "code",
      "source": [
        "tensor_byte=torch.ByteTensor([0,261,1,-5])\n",
        "tensor_byte"
      ],
      "execution_count": 19,
      "outputs": [
        {
          "output_type": "execute_result",
          "data": {
            "text/plain": [
              "tensor([  0,   5,   1, 251], dtype=torch.uint8)"
            ]
          },
          "metadata": {
            "tags": []
          },
          "execution_count": 19
        }
      ]
    },
    {
      "metadata": {
        "id": "hIM_UaoOxqhh",
        "colab_type": "code",
        "colab": {
          "base_uri": "https://localhost:8080/",
          "height": 34
        },
        "outputId": "a762681c-a3d1-4b52-b882-6657981a9945"
      },
      "cell_type": "code",
      "source": [
        "# intialize all tensor with one\n",
        "tensor_ones=torch.ones(10)\n",
        "tensor_ones"
      ],
      "execution_count": 21,
      "outputs": [
        {
          "output_type": "execute_result",
          "data": {
            "text/plain": [
              "tensor([1., 1., 1., 1., 1., 1., 1., 1., 1., 1.])"
            ]
          },
          "metadata": {
            "tags": []
          },
          "execution_count": 21
        }
      ]
    },
    {
      "metadata": {
        "id": "c2WWIIcJx8yx",
        "colab_type": "code",
        "colab": {
          "base_uri": "https://localhost:8080/",
          "height": 34
        },
        "outputId": "87aededd-05c5-47b6-cdcc-a9bde05f640a"
      },
      "cell_type": "code",
      "source": [
        "# intialize all tensor with one\n",
        "tensor_zeros=torch.zeros(10)\n",
        "tensor_zeros"
      ],
      "execution_count": 22,
      "outputs": [
        {
          "output_type": "execute_result",
          "data": {
            "text/plain": [
              "tensor([0., 0., 0., 0., 0., 0., 0., 0., 0., 0.])"
            ]
          },
          "metadata": {
            "tags": []
          },
          "execution_count": 22
        }
      ]
    },
    {
      "metadata": {
        "id": "-HNQv3TRyUXi",
        "colab_type": "code",
        "colab": {
          "base_uri": "https://localhost:8080/",
          "height": 68
        },
        "outputId": "9f64b7d9-9cfe-4f17-f291-c8115c003cb8"
      },
      "cell_type": "code",
      "source": [
        "# square matix with diagonal as ones\n",
        "tensor_eye=torch.eye(3)\n",
        "tensor_eye"
      ],
      "execution_count": 23,
      "outputs": [
        {
          "output_type": "execute_result",
          "data": {
            "text/plain": [
              "tensor([[1., 0., 0.],\n",
              "        [0., 1., 0.],\n",
              "        [0., 0., 1.]])"
            ]
          },
          "metadata": {
            "tags": []
          },
          "execution_count": 23
        }
      ]
    },
    {
      "metadata": {
        "id": "8cMSjln1ydMp",
        "colab_type": "code",
        "colab": {
          "base_uri": "https://localhost:8080/",
          "height": 68
        },
        "outputId": "6ad5e64e-6343-4cd1-d630-89a7da26e980"
      },
      "cell_type": "code",
      "source": [
        "# print index position of non zero in metrix\n",
        "non_zero=torch.nonzero(tensor_eye)\n",
        "non_zero"
      ],
      "execution_count": 24,
      "outputs": [
        {
          "output_type": "execute_result",
          "data": {
            "text/plain": [
              "tensor([[0, 0],\n",
              "        [1, 1],\n",
              "        [2, 2]])"
            ]
          },
          "metadata": {
            "tags": []
          },
          "execution_count": 24
        }
      ]
    },
    {
      "metadata": {
        "id": "3K2yBxmqy5l6",
        "colab_type": "code",
        "colab": {
          "base_uri": "https://localhost:8080/",
          "height": 68
        },
        "outputId": "a2edd278-483b-49aa-89a5-e296651f8abb"
      },
      "cell_type": "code",
      "source": [
        "# create tenosr of like another\n",
        "\n",
        "tensor_ones_shape_eye=torch.ones_like(tensor_eye)\n",
        "tensor_ones_shape_eye\n"
      ],
      "execution_count": 27,
      "outputs": [
        {
          "output_type": "execute_result",
          "data": {
            "text/plain": [
              "tensor([[1., 1., 1.],\n",
              "        [1., 1., 1.],\n",
              "        [1., 1., 1.]])"
            ]
          },
          "metadata": {
            "tags": []
          },
          "execution_count": 27
        }
      ]
    },
    {
      "metadata": {
        "id": "K73o5RTJzUf3",
        "colab_type": "code",
        "colab": {
          "base_uri": "https://localhost:8080/",
          "height": 68
        },
        "outputId": "41b6fb08-3353-430a-b68b-d9ce4233c984"
      },
      "cell_type": "code",
      "source": [
        "# inplace and out of place operations\n",
        "# inplace operation: modifies the same tensor, ALL IN-PLACE OPERATIONS HAVE THE SUFFIX \"_\"\n",
        "# out of operations: creates a new tensor\n",
        "\n",
        "\n",
        "initial_tensor=torch.rand(3,3)\n",
        "\n",
        "initial_tensor.fill_(3)"
      ],
      "execution_count": 29,
      "outputs": [
        {
          "output_type": "execute_result",
          "data": {
            "text/plain": [
              "tensor([[3., 3., 3.],\n",
              "        [3., 3., 3.],\n",
              "        [3., 3., 3.]])"
            ]
          },
          "metadata": {
            "tags": []
          },
          "execution_count": 29
        }
      ]
    },
    {
      "metadata": {
        "id": "Ya1xJIQpz916",
        "colab_type": "code",
        "colab": {
          "base_uri": "https://localhost:8080/",
          "height": 68
        },
        "outputId": "b113afa8-7518-4fe8-abfd-21456778aed6"
      },
      "cell_type": "code",
      "source": [
        "# out of place operation, creates a new tensor\n",
        "new_tensor=initial_tensor.add(4)\n",
        "new_tensor \n"
      ],
      "execution_count": 31,
      "outputs": [
        {
          "output_type": "execute_result",
          "data": {
            "text/plain": [
              "tensor([[7., 7., 7.],\n",
              "        [7., 7., 7.],\n",
              "        [7., 7., 7.]])"
            ]
          },
          "metadata": {
            "tags": []
          },
          "execution_count": 31
        }
      ]
    },
    {
      "metadata": {
        "id": "v3pKIBez0vLb",
        "colab_type": "code",
        "colab": {
          "base_uri": "https://localhost:8080/",
          "height": 68
        },
        "outputId": "75c609d8-fea9-49bd-aafb-e3bf043562ba"
      },
      "cell_type": "code",
      "source": [
        "#inplace operation will change the intial tensor with 5 added to all elemets of matrix\n",
        "initial_tensor.add_(5)\n",
        "initial_tensor\n"
      ],
      "execution_count": 33,
      "outputs": [
        {
          "output_type": "execute_result",
          "data": {
            "text/plain": [
              "tensor([[8., 8., 8.],\n",
              "        [8., 8., 8.],\n",
              "        [8., 8., 8.]])"
            ]
          },
          "metadata": {
            "tags": []
          },
          "execution_count": 33
        }
      ]
    },
    {
      "metadata": {
        "id": "oJP7riLz1Cyx",
        "colab_type": "code",
        "colab": {}
      },
      "cell_type": "code",
      "source": [
        ""
      ],
      "execution_count": 0,
      "outputs": []
    },
    {
      "metadata": {
        "id": "jmuPHFBd1ODz",
        "colab_type": "text"
      },
      "cell_type": "markdown",
      "source": [
        "# **Working with Numpy and Tensor **"
      ]
    },
    {
      "metadata": {
        "id": "ZwhtFc9Z0_c6",
        "colab_type": "code",
        "colab": {}
      },
      "cell_type": "code",
      "source": [
        "import numpy as np\n"
      ],
      "execution_count": 0,
      "outputs": []
    },
    {
      "metadata": {
        "id": "-qO4-xEx1dpq",
        "colab_type": "code",
        "colab": {
          "base_uri": "https://localhost:8080/",
          "height": 34
        },
        "outputId": "6abe4186-717b-4edb-cfd8-a67fc7df8cd7"
      },
      "cell_type": "code",
      "source": [
        "numpy_arr=np.array([1,2,3])\n",
        "numpy_arr"
      ],
      "execution_count": 35,
      "outputs": [
        {
          "output_type": "execute_result",
          "data": {
            "text/plain": [
              "array([1, 2, 3])"
            ]
          },
          "metadata": {
            "tags": []
          },
          "execution_count": 35
        }
      ]
    },
    {
      "metadata": {
        "id": "7INrPA381l1T",
        "colab_type": "code",
        "colab": {
          "base_uri": "https://localhost:8080/",
          "height": 34
        },
        "outputId": "435afdac-1082-4022-ec35-c527a8be2a30"
      },
      "cell_type": "code",
      "source": [
        "# converting numpy array to tensor\n",
        "tensor=torch.from_numpy(numpy_arr)\n",
        "tensor"
      ],
      "execution_count": 36,
      "outputs": [
        {
          "output_type": "execute_result",
          "data": {
            "text/plain": [
              "tensor([1, 2, 3])"
            ]
          },
          "metadata": {
            "tags": []
          },
          "execution_count": 36
        }
      ]
    },
    {
      "metadata": {
        "id": "7TRQXvZq1xkK",
        "colab_type": "code",
        "colab": {
          "base_uri": "https://localhost:8080/",
          "height": 34
        },
        "outputId": "1ba0f2b6-7f09-46d5-d056-5a63273a3692"
      },
      "cell_type": "code",
      "source": [
        "# converting numpy array from tensor\n",
        "numpy_from_tensor=tensor.numpy()\n",
        "numpy_from_tensor"
      ],
      "execution_count": 38,
      "outputs": [
        {
          "output_type": "execute_result",
          "data": {
            "text/plain": [
              "array([1, 2, 3])"
            ]
          },
          "metadata": {
            "tags": []
          },
          "execution_count": 38
        }
      ]
    },
    {
      "metadata": {
        "id": "H6suqKaa2LKa",
        "colab_type": "code",
        "colab": {
          "base_uri": "https://localhost:8080/",
          "height": 34
        },
        "outputId": "4e375196-94c3-47f0-a5a3-2fac41b691c0"
      },
      "cell_type": "code",
      "source": [
        "# updating an element of numyp array\n",
        "numpy_arr[1]=4\n",
        "numpy_arr"
      ],
      "execution_count": 39,
      "outputs": [
        {
          "output_type": "execute_result",
          "data": {
            "text/plain": [
              "array([1, 4, 3])"
            ]
          },
          "metadata": {
            "tags": []
          },
          "execution_count": 39
        }
      ]
    },
    {
      "metadata": {
        "id": "jppv_wQg2SU6",
        "colab_type": "code",
        "colab": {
          "base_uri": "https://localhost:8080/",
          "height": 34
        },
        "outputId": "58866e7a-bba3-4b5c-cc32-3689fc3da90e"
      },
      "cell_type": "code",
      "source": [
        "# tensor gets update on np array update\n",
        "tensor"
      ],
      "execution_count": 40,
      "outputs": [
        {
          "output_type": "execute_result",
          "data": {
            "text/plain": [
              "tensor([1, 4, 3])"
            ]
          },
          "metadata": {
            "tags": []
          },
          "execution_count": 40
        }
      ]
    },
    {
      "metadata": {
        "id": "EblJsDgs2XK7",
        "colab_type": "code",
        "colab": {
          "base_uri": "https://localhost:8080/",
          "height": 51
        },
        "outputId": "61a3a1fb-1cee-47f2-ec91-64f9536b8503"
      },
      "cell_type": "code",
      "source": [
        "# slice and dice on tensor is similar to array\n",
        "\n",
        "inital_tensor=torch.rand(2,3)\n",
        "inital_tensor"
      ],
      "execution_count": 41,
      "outputs": [
        {
          "output_type": "execute_result",
          "data": {
            "text/plain": [
              "tensor([[0.9135, 0.4563, 0.2798],\n",
              "        [0.8891, 0.3326, 0.1134]])"
            ]
          },
          "metadata": {
            "tags": []
          },
          "execution_count": 41
        }
      ]
    },
    {
      "metadata": {
        "id": "KB-pJhnp21hL",
        "colab_type": "code",
        "colab": {
          "base_uri": "https://localhost:8080/",
          "height": 34
        },
        "outputId": "e3beb231-e3c2-4a04-8877-778dd513c9df"
      },
      "cell_type": "code",
      "source": [
        "inital_tensor[0,2]"
      ],
      "execution_count": 42,
      "outputs": [
        {
          "output_type": "execute_result",
          "data": {
            "text/plain": [
              "tensor(0.2798)"
            ]
          },
          "metadata": {
            "tags": []
          },
          "execution_count": 42
        }
      ]
    },
    {
      "metadata": {
        "id": "1DHl7gqT25ri",
        "colab_type": "code",
        "colab": {
          "base_uri": "https://localhost:8080/",
          "height": 51
        },
        "outputId": "50fb29c8-5917-4791-c495-e053b84a60db"
      },
      "cell_type": "code",
      "source": [
        "inital_tensor[:,1:]"
      ],
      "execution_count": 43,
      "outputs": [
        {
          "output_type": "execute_result",
          "data": {
            "text/plain": [
              "tensor([[0.4563, 0.2798],\n",
              "        [0.3326, 0.1134]])"
            ]
          },
          "metadata": {
            "tags": []
          },
          "execution_count": 43
        }
      ]
    },
    {
      "metadata": {
        "id": "wOnBYaU-2_MC",
        "colab_type": "code",
        "colab": {
          "base_uri": "https://localhost:8080/",
          "height": 34
        },
        "outputId": "da247649-aadb-4c05-86f8-50308fd5ee54"
      },
      "cell_type": "code",
      "source": [
        "inital_tensor.size()"
      ],
      "execution_count": 45,
      "outputs": [
        {
          "output_type": "execute_result",
          "data": {
            "text/plain": [
              "torch.Size([2, 3])"
            ]
          },
          "metadata": {
            "tags": []
          },
          "execution_count": 45
        }
      ]
    },
    {
      "metadata": {
        "id": "tj-U5aQK3Msq",
        "colab_type": "code",
        "colab": {
          "base_uri": "https://localhost:8080/",
          "height": 34
        },
        "outputId": "e7a37524-7196-43dc-a8ec-96ed057358d0"
      },
      "cell_type": "code",
      "source": [
        "inital_tensor.shape"
      ],
      "execution_count": 46,
      "outputs": [
        {
          "output_type": "execute_result",
          "data": {
            "text/plain": [
              "torch.Size([2, 3])"
            ]
          },
          "metadata": {
            "tags": []
          },
          "execution_count": 46
        }
      ]
    },
    {
      "metadata": {
        "id": "TjUWiNAv3PVz",
        "colab_type": "code",
        "colab": {
          "base_uri": "https://localhost:8080/",
          "height": 34
        },
        "outputId": "9d8a3e28-76a5-46d4-9fd1-a2ae860c374e"
      },
      "cell_type": "code",
      "source": [
        "# create view from tensor\n",
        "\n",
        "resized_tensor=inital_tensor.view(6)\n",
        "resized_tensor.shape"
      ],
      "execution_count": 47,
      "outputs": [
        {
          "output_type": "execute_result",
          "data": {
            "text/plain": [
              "torch.Size([6])"
            ]
          },
          "metadata": {
            "tags": []
          },
          "execution_count": 47
        }
      ]
    },
    {
      "metadata": {
        "id": "LkA6qrWE3eyi",
        "colab_type": "code",
        "colab": {
          "base_uri": "https://localhost:8080/",
          "height": 34
        },
        "outputId": "087f591a-a2dc-45b1-f083-d638eaa0089f"
      },
      "cell_type": "code",
      "source": [
        "resized_tensor"
      ],
      "execution_count": 48,
      "outputs": [
        {
          "output_type": "execute_result",
          "data": {
            "text/plain": [
              "tensor([0.9135, 0.4563, 0.2798, 0.8891, 0.3326, 0.1134])"
            ]
          },
          "metadata": {
            "tags": []
          },
          "execution_count": 48
        }
      ]
    },
    {
      "metadata": {
        "id": "usdj1RmB3ifL",
        "colab_type": "code",
        "colab": {
          "base_uri": "https://localhost:8080/",
          "height": 34
        },
        "outputId": "5c5584e9-1d0e-4535-9df9-ae5fbce611d6"
      },
      "cell_type": "code",
      "source": [
        "inital_tensor[0,2]=0.1111\n",
        "\n",
        "# updating the main/orignal tensor , will reflect in view\n",
        "resized_tensor"
      ],
      "execution_count": 49,
      "outputs": [
        {
          "output_type": "execute_result",
          "data": {
            "text/plain": [
              "tensor([0.9135, 0.4563, 0.1111, 0.8891, 0.3326, 0.1134])"
            ]
          },
          "metadata": {
            "tags": []
          },
          "execution_count": 49
        }
      ]
    },
    {
      "metadata": {
        "id": "O3Pv34uT37jz",
        "colab_type": "code",
        "colab": {
          "base_uri": "https://localhost:8080/",
          "height": 34
        },
        "outputId": "384a4b4f-969b-4b7c-c86a-9a8782a60d26"
      },
      "cell_type": "code",
      "source": [
        "resized_tensor_new=inital_tensor.view([3,2])\n",
        "resized_tensor_new.shape  "
      ],
      "execution_count": 51,
      "outputs": [
        {
          "output_type": "execute_result",
          "data": {
            "text/plain": [
              "torch.Size([3, 2])"
            ]
          },
          "metadata": {
            "tags": []
          },
          "execution_count": 51
        }
      ]
    },
    {
      "metadata": {
        "id": "8Mbqij5I4RFS",
        "colab_type": "code",
        "colab": {
          "base_uri": "https://localhost:8080/",
          "height": 68
        },
        "outputId": "f6b71c40-3564-4a73-ef3d-17c56b99ff18"
      },
      "cell_type": "code",
      "source": [
        "resized_tensor_new"
      ],
      "execution_count": 52,
      "outputs": [
        {
          "output_type": "execute_result",
          "data": {
            "text/plain": [
              "tensor([[0.9135, 0.4563],\n",
              "        [0.1111, 0.8891],\n",
              "        [0.3326, 0.1134]])"
            ]
          },
          "metadata": {
            "tags": []
          },
          "execution_count": 52
        }
      ]
    },
    {
      "metadata": {
        "id": "5ijRFr7m4UPs",
        "colab_type": "code",
        "colab": {
          "base_uri": "https://localhost:8080/",
          "height": 34
        },
        "outputId": "7c6b4dd6-1d32-4f7c-ddfe-b474c10d604b"
      },
      "cell_type": "code",
      "source": [
        "# inferring the dimention from orignal torch while crate view\n",
        "resized_matrix=inital_tensor.view([-1,2])\n",
        "resized_matrix.shape"
      ],
      "execution_count": 53,
      "outputs": [
        {
          "output_type": "execute_result",
          "data": {
            "text/plain": [
              "torch.Size([3, 2])"
            ]
          },
          "metadata": {
            "tags": []
          },
          "execution_count": 53
        }
      ]
    },
    {
      "metadata": {
        "id": "Dq-9mXpW4sB7",
        "colab_type": "code",
        "colab": {}
      },
      "cell_type": "code",
      "source": [
        "sorted_tensor, sorted_indices=torch.sort(inital_tensor)"
      ],
      "execution_count": 0,
      "outputs": []
    },
    {
      "metadata": {
        "id": "LCd0WbGw4KvD",
        "colab_type": "code",
        "colab": {
          "base_uri": "https://localhost:8080/",
          "height": 51
        },
        "outputId": "c6e4b5b8-39d5-4cde-ed23-b84a6f64eef1"
      },
      "cell_type": "code",
      "source": [
        "sorted_tensor"
      ],
      "execution_count": 59,
      "outputs": [
        {
          "output_type": "execute_result",
          "data": {
            "text/plain": [
              "tensor([[0.1111, 0.4563, 0.9135],\n",
              "        [0.1134, 0.3326, 0.8891]])"
            ]
          },
          "metadata": {
            "tags": []
          },
          "execution_count": 59
        }
      ]
    },
    {
      "metadata": {
        "id": "YQYjN7-j5bJ5",
        "colab_type": "code",
        "colab": {
          "base_uri": "https://localhost:8080/",
          "height": 51
        },
        "outputId": "6978953b-8ca8-45e6-ae11-e8ec9ca5e0ea"
      },
      "cell_type": "code",
      "source": [
        "sorted_indices"
      ],
      "execution_count": 58,
      "outputs": [
        {
          "output_type": "execute_result",
          "data": {
            "text/plain": [
              "tensor([[2, 1, 0],\n",
              "        [2, 1, 0]])"
            ]
          },
          "metadata": {
            "tags": []
          },
          "execution_count": 58
        }
      ]
    },
    {
      "metadata": {
        "id": "J-A6VLr95C9y",
        "colab_type": "code",
        "colab": {
          "base_uri": "https://localhost:8080/",
          "height": 51
        },
        "outputId": "f5eee531-1787-4cfd-cd27-6383d1553305"
      },
      "cell_type": "code",
      "source": [
        "# sort the tesnor column wise by specifing dim\n",
        "sorted_tensor, sorted_indices=torch.sort(inital_tensor,dim=0)\n",
        "sorted_tensor"
      ],
      "execution_count": 60,
      "outputs": [
        {
          "output_type": "execute_result",
          "data": {
            "text/plain": [
              "tensor([[0.8891, 0.3326, 0.1111],\n",
              "        [0.9135, 0.4563, 0.1134]])"
            ]
          },
          "metadata": {
            "tags": []
          },
          "execution_count": 60
        }
      ]
    },
    {
      "metadata": {
        "id": "K9xmZF8-5tTC",
        "colab_type": "code",
        "colab": {}
      },
      "cell_type": "code",
      "source": [
        ""
      ],
      "execution_count": 0,
      "outputs": []
    },
    {
      "metadata": {
        "id": "j8L3Dj7i5bIb",
        "colab_type": "code",
        "colab": {}
      },
      "cell_type": "code",
      "source": [
        ""
      ],
      "execution_count": 0,
      "outputs": []
    },
    {
      "metadata": {
        "id": "sZ5umFqZ3LSL",
        "colab_type": "code",
        "colab": {}
      },
      "cell_type": "code",
      "source": [
        ""
      ],
      "execution_count": 0,
      "outputs": []
    }
  ]
}