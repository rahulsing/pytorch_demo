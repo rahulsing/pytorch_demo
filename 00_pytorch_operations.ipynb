{
  "nbformat": 4,
  "nbformat_minor": 0,
  "metadata": {
    "colab": {
      "name": "00_pytorch_operations.ipynb",
      "version": "0.3.2",
      "provenance": [],
      "include_colab_link": true
    },
    "kernelspec": {
      "name": "python3",
      "display_name": "Python 3"
    }
  },
  "cells": [
    {
      "cell_type": "markdown",
      "metadata": {
        "id": "view-in-github",
        "colab_type": "text"
      },
      "source": [
        "<a href=\"https://colab.research.google.com/github/rahulsing/pytorch_demo/blob/master/00_pytorch_operations.ipynb\" target=\"_parent\"><img src=\"https://colab.research.google.com/assets/colab-badge.svg\" alt=\"Open In Colab\"/></a>"
      ]
    },
    {
      "metadata": {
        "id": "Ch7eabL-uzeA",
        "colab_type": "code",
        "colab": {
          "base_uri": "https://localhost:8080/",
          "height": 68
        },
        "outputId": "bab0fb81-33a5-479e-89e2-bd96d66d2cad"
      },
      "cell_type": "code",
      "source": [
        "# http://pytorch.org/\n",
        "from os.path import exists\n",
        "from wheel.pep425tags import get_abbr_impl, get_impl_ver, get_abi_tag\n",
        "platform = '{}{}-{}'.format(get_abbr_impl(), get_impl_ver(), get_abi_tag())\n",
        "cuda_output = !ldconfig -p|grep cudart.so|sed -e 's/.*\\.\\([0-9]*\\)\\.\\([0-9]*\\)$/cu\\1\\2/'\n",
        "accelerator = cuda_output[0] if exists('/dev/nvidia0') else 'cpu'\n",
        "\n",
        "!pip install -q http://download.pytorch.org/whl/{accelerator}/torch-0.4.1-{platform}-linux_x86_64.whl torchvision\n",
        "import torch"
      ],
      "execution_count": 1,
      "outputs": [
        {
          "output_type": "stream",
          "text": [
            "\u001b[K    100% |████████████████████████████████| 91.1MB 58.7MB/s \n",
            "\u001b[K    100% |████████████████████████████████| 2.0MB 11.0MB/s \n",
            "\u001b[31mfastai 1.0.42 has requirement torch>=1.0.0, but you'll have torch 0.4.1 which is incompatible.\u001b[0m\n",
            "\u001b[?25h"
          ],
          "name": "stdout"
        }
      ]
    },
    {
      "metadata": {
        "id": "6wVr13wmu-8Y",
        "colab_type": "code",
        "colab": {
          "base_uri": "https://localhost:8080/",
          "height": 34
        },
        "outputId": "fb69cf88-175a-4add-e6b4-32aeb10cb2b9"
      },
      "cell_type": "code",
      "source": [
        "import torch\n",
        "print(torch.__version__ )"
      ],
      "execution_count": 2,
      "outputs": [
        {
          "output_type": "stream",
          "text": [
            "0.4.1\n"
          ],
          "name": "stdout"
        }
      ]
    },
    {
      "metadata": {
        "id": "UEJKeDNeu_HX",
        "colab_type": "text"
      },
      "cell_type": "markdown",
      "source": [
        "Tensors are array of multipledimentional data, they are interoperable with Numpy Arrays\n",
        "\n",
        "Tensor form part of the computational graph of your network and record operations performed"
      ]
    },
    {
      "metadata": {
        "id": "AVt5OPZIvdsP",
        "colab_type": "code",
        "colab": {
          "base_uri": "https://localhost:8080/",
          "height": 51
        },
        "outputId": "8f3273f2-1cd7-4342-b074-42691d75114e"
      },
      "cell_type": "code",
      "source": [
        "tensor_array=torch.Tensor([[1,2],[4,5]])\n",
        "tensor_array"
      ],
      "execution_count": 4,
      "outputs": [
        {
          "output_type": "execute_result",
          "data": {
            "text/plain": [
              "tensor([[1., 2.],\n",
              "        [4., 5.]])"
            ]
          },
          "metadata": {
            "tags": []
          },
          "execution_count": 4
        }
      ]
    },
    {
      "metadata": {
        "id": "N5O9Bm_7wGIi",
        "colab_type": "code",
        "colab": {}
      },
      "cell_type": "code",
      "source": [
        "tensor_uninitialized=torch.Tensor(3,3)\n"
      ],
      "execution_count": 0,
      "outputs": []
    },
    {
      "metadata": {
        "id": "MbpE9lpAwGHh",
        "colab_type": "code",
        "colab": {
          "base_uri": "https://localhost:8080/",
          "height": 34
        },
        "outputId": "a49709e9-5b57-49ca-e807-4dbe83ac32cb"
      },
      "cell_type": "code",
      "source": [
        "# print total number of elements space\n",
        "torch.numel(tensor_uninitialized)"
      ],
      "execution_count": 13,
      "outputs": [
        {
          "output_type": "execute_result",
          "data": {
            "text/plain": [
              "9"
            ]
          },
          "metadata": {
            "tags": []
          },
          "execution_count": 13
        }
      ]
    },
    {
      "metadata": {
        "id": "_WpwJ5p9w33I",
        "colab_type": "code",
        "colab": {
          "base_uri": "https://localhost:8080/",
          "height": 51
        },
        "outputId": "ed9d11ac-eaa8-4fa1-aafc-1ed1961e5d3d"
      },
      "cell_type": "code",
      "source": [
        "# randomaly intialize with some value\n",
        "tensor_initialized=torch.rand(2,3)\n",
        "tensor_initialized"
      ],
      "execution_count": 16,
      "outputs": [
        {
          "output_type": "execute_result",
          "data": {
            "text/plain": [
              "tensor([[0.3865, 0.6662, 0.0927],\n",
              "        [0.6180, 0.7982, 0.2300]])"
            ]
          },
          "metadata": {
            "tags": []
          },
          "execution_count": 16
        }
      ]
    },
    {
      "metadata": {
        "id": "iS-Vk-0kw343",
        "colab_type": "code",
        "colab": {
          "base_uri": "https://localhost:8080/",
          "height": 34
        },
        "outputId": "c01f07f8-df8d-4297-9b95-abf64b249b89"
      },
      "cell_type": "code",
      "source": [
        "# tensor with specified data type\n",
        "\n",
        "tensor_long=torch.LongTensor([1.0,2.0,3.0])\n",
        "tensor_long"
      ],
      "execution_count": 18,
      "outputs": [
        {
          "output_type": "execute_result",
          "data": {
            "text/plain": [
              "tensor([1, 2, 3])"
            ]
          },
          "metadata": {
            "tags": []
          },
          "execution_count": 18
        }
      ]
    },
    {
      "metadata": {
        "id": "4v5RBwvZxfSB",
        "colab_type": "code",
        "colab": {
          "base_uri": "https://localhost:8080/",
          "height": 34
        },
        "outputId": "aba68bd2-9ec0-4abe-bdae-9c367be3420e"
      },
      "cell_type": "code",
      "source": [
        "tensor_byte=torch.ByteTensor([0,261,1,-5])\n",
        "tensor_byte"
      ],
      "execution_count": 19,
      "outputs": [
        {
          "output_type": "execute_result",
          "data": {
            "text/plain": [
              "tensor([  0,   5,   1, 251], dtype=torch.uint8)"
            ]
          },
          "metadata": {
            "tags": []
          },
          "execution_count": 19
        }
      ]
    },
    {
      "metadata": {
        "id": "hIM_UaoOxqhh",
        "colab_type": "code",
        "colab": {
          "base_uri": "https://localhost:8080/",
          "height": 34
        },
        "outputId": "a762681c-a3d1-4b52-b882-6657981a9945"
      },
      "cell_type": "code",
      "source": [
        "# intialize all tensor with one\n",
        "tensor_ones=torch.ones(10)\n",
        "tensor_ones"
      ],
      "execution_count": 21,
      "outputs": [
        {
          "output_type": "execute_result",
          "data": {
            "text/plain": [
              "tensor([1., 1., 1., 1., 1., 1., 1., 1., 1., 1.])"
            ]
          },
          "metadata": {
            "tags": []
          },
          "execution_count": 21
        }
      ]
    },
    {
      "metadata": {
        "id": "c2WWIIcJx8yx",
        "colab_type": "code",
        "colab": {
          "base_uri": "https://localhost:8080/",
          "height": 34
        },
        "outputId": "87aededd-05c5-47b6-cdcc-a9bde05f640a"
      },
      "cell_type": "code",
      "source": [
        "# intialize all tensor with one\n",
        "tensor_zeros=torch.zeros(10)\n",
        "tensor_zeros"
      ],
      "execution_count": 22,
      "outputs": [
        {
          "output_type": "execute_result",
          "data": {
            "text/plain": [
              "tensor([0., 0., 0., 0., 0., 0., 0., 0., 0., 0.])"
            ]
          },
          "metadata": {
            "tags": []
          },
          "execution_count": 22
        }
      ]
    },
    {
      "metadata": {
        "id": "-HNQv3TRyUXi",
        "colab_type": "code",
        "colab": {
          "base_uri": "https://localhost:8080/",
          "height": 68
        },
        "outputId": "9f64b7d9-9cfe-4f17-f291-c8115c003cb8"
      },
      "cell_type": "code",
      "source": [
        "# square matix with diagonal as ones\n",
        "tensor_eye=torch.eye(3)\n",
        "tensor_eye"
      ],
      "execution_count": 23,
      "outputs": [
        {
          "output_type": "execute_result",
          "data": {
            "text/plain": [
              "tensor([[1., 0., 0.],\n",
              "        [0., 1., 0.],\n",
              "        [0., 0., 1.]])"
            ]
          },
          "metadata": {
            "tags": []
          },
          "execution_count": 23
        }
      ]
    },
    {
      "metadata": {
        "id": "8cMSjln1ydMp",
        "colab_type": "code",
        "colab": {
          "base_uri": "https://localhost:8080/",
          "height": 68
        },
        "outputId": "6ad5e64e-6343-4cd1-d630-89a7da26e980"
      },
      "cell_type": "code",
      "source": [
        "# print index position of non zero in metrix\n",
        "non_zero=torch.nonzero(tensor_eye)\n",
        "non_zero"
      ],
      "execution_count": 24,
      "outputs": [
        {
          "output_type": "execute_result",
          "data": {
            "text/plain": [
              "tensor([[0, 0],\n",
              "        [1, 1],\n",
              "        [2, 2]])"
            ]
          },
          "metadata": {
            "tags": []
          },
          "execution_count": 24
        }
      ]
    },
    {
      "metadata": {
        "id": "3K2yBxmqy5l6",
        "colab_type": "code",
        "colab": {
          "base_uri": "https://localhost:8080/",
          "height": 68
        },
        "outputId": "a2edd278-483b-49aa-89a5-e296651f8abb"
      },
      "cell_type": "code",
      "source": [
        "# create tenosr of like another\n",
        "\n",
        "tensor_ones_shape_eye=torch.ones_like(tensor_eye)\n",
        "tensor_ones_shape_eye\n"
      ],
      "execution_count": 27,
      "outputs": [
        {
          "output_type": "execute_result",
          "data": {
            "text/plain": [
              "tensor([[1., 1., 1.],\n",
              "        [1., 1., 1.],\n",
              "        [1., 1., 1.]])"
            ]
          },
          "metadata": {
            "tags": []
          },
          "execution_count": 27
        }
      ]
    },
    {
      "metadata": {
        "id": "K73o5RTJzUf3",
        "colab_type": "code",
        "colab": {
          "base_uri": "https://localhost:8080/",
          "height": 68
        },
        "outputId": "41b6fb08-3353-430a-b68b-d9ce4233c984"
      },
      "cell_type": "code",
      "source": [
        "# inplace and out of place operations\n",
        "# inplace operation: modifies the same tensor, ALL IN-PLACE OPERATIONS HAVE THE SUFFIX \"_\"\n",
        "# out of operations: creates a new tensor\n",
        "\n",
        "\n",
        "initial_tensor=torch.rand(3,3)\n",
        "\n",
        "initial_tensor.fill_(3)"
      ],
      "execution_count": 29,
      "outputs": [
        {
          "output_type": "execute_result",
          "data": {
            "text/plain": [
              "tensor([[3., 3., 3.],\n",
              "        [3., 3., 3.],\n",
              "        [3., 3., 3.]])"
            ]
          },
          "metadata": {
            "tags": []
          },
          "execution_count": 29
        }
      ]
    },
    {
      "metadata": {
        "id": "Ya1xJIQpz916",
        "colab_type": "code",
        "colab": {
          "base_uri": "https://localhost:8080/",
          "height": 68
        },
        "outputId": "b79e2b4d-e216-42f1-97e2-444cca92b4ec"
      },
      "cell_type": "code",
      "source": [
        "# out of place operation\n",
        "new_tensor=initial_tensor.add(4)\n",
        "new_tensor \n"
      ],
      "execution_count": 30,
      "outputs": [
        {
          "output_type": "execute_result",
          "data": {
            "text/plain": [
              "tensor([[7., 7., 7.],\n",
              "        [7., 7., 7.],\n",
              "        [7., 7., 7.]])"
            ]
          },
          "metadata": {
            "tags": []
          },
          "execution_count": 30
        }
      ]
    }
  ]
}