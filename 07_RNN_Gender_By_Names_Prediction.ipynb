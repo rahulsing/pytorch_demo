{
  "nbformat": 4,
  "nbformat_minor": 0,
  "metadata": {
    "colab": {
      "name": "Untitled2.ipynb",
      "version": "0.3.2",
      "provenance": [],
      "include_colab_link": true
    },
    "kernelspec": {
      "name": "python3",
      "display_name": "Python 3"
    }
  },
  "cells": [
    {
      "cell_type": "markdown",
      "metadata": {
        "id": "view-in-github",
        "colab_type": "text"
      },
      "source": [
        "<a href=\"https://colab.research.google.com/github/rahulsing/pytorch_demo/blob/master/07_RNN_Gender_By_Names_Prediction.ipynb\" target=\"_parent\"><img src=\"https://colab.research.google.com/assets/colab-badge.svg\" alt=\"Open In Colab\"/></a>"
      ]
    },
    {
      "metadata": {
        "id": "mmnH6Wj0cgZz",
        "colab_type": "code",
        "outputId": "969f25e1-bba2-4aaa-9d1f-327ba1ccf8ce",
        "colab": {
          "base_uri": "https://localhost:8080/",
          "height": 122
        }
      },
      "cell_type": "code",
      "source": [
        "from google.colab import drive\n",
        "drive.mount('/content/gdrive')"
      ],
      "execution_count": 1,
      "outputs": [
        {
          "output_type": "stream",
          "text": [
            "Go to this URL in a browser: https://accounts.google.com/o/oauth2/auth?client_id=947318989803-6bn6qk8qdgf4n4g3pfee6491hc0brc4i.apps.googleusercontent.com&redirect_uri=urn%3Aietf%3Awg%3Aoauth%3A2.0%3Aoob&scope=email%20https%3A%2F%2Fwww.googleapis.com%2Fauth%2Fdocs.test%20https%3A%2F%2Fwww.googleapis.com%2Fauth%2Fdrive%20https%3A%2F%2Fwww.googleapis.com%2Fauth%2Fdrive.photos.readonly%20https%3A%2F%2Fwww.googleapis.com%2Fauth%2Fpeopleapi.readonly&response_type=code\n",
            "\n",
            "Enter your authorization code:\n",
            "··········\n",
            "Mounted at /content/gdrive\n"
          ],
          "name": "stdout"
        }
      ]
    },
    {
      "metadata": {
        "id": "CcJfnG-GegZI",
        "colab_type": "code",
        "outputId": "6134e184-8b33-4c1a-e1f3-9dd18a4551aa",
        "colab": {
          "base_uri": "https://localhost:8080/",
          "height": 204
        }
      },
      "cell_type": "code",
      "source": [
        "import pandas as pd\n",
        "\n",
        "names_data=pd.read_csv(\"/content/gdrive/My Drive/datasets/gender_by_names/names.csv\")\n",
        "names_data.head()"
      ],
      "execution_count": 2,
      "outputs": [
        {
          "output_type": "execute_result",
          "data": {
            "text/html": [
              "<div>\n",
              "<style scoped>\n",
              "    .dataframe tbody tr th:only-of-type {\n",
              "        vertical-align: middle;\n",
              "    }\n",
              "\n",
              "    .dataframe tbody tr th {\n",
              "        vertical-align: top;\n",
              "    }\n",
              "\n",
              "    .dataframe thead th {\n",
              "        text-align: right;\n",
              "    }\n",
              "</style>\n",
              "<table border=\"1\" class=\"dataframe\">\n",
              "  <thead>\n",
              "    <tr style=\"text-align: right;\">\n",
              "      <th></th>\n",
              "      <th>Name</th>\n",
              "      <th>Gender</th>\n",
              "    </tr>\n",
              "  </thead>\n",
              "  <tbody>\n",
              "    <tr>\n",
              "      <th>0</th>\n",
              "      <td>Aamir</td>\n",
              "      <td>Male</td>\n",
              "    </tr>\n",
              "    <tr>\n",
              "      <th>1</th>\n",
              "      <td>Aaron</td>\n",
              "      <td>Female</td>\n",
              "    </tr>\n",
              "    <tr>\n",
              "      <th>2</th>\n",
              "      <td>Aaron</td>\n",
              "      <td>Male</td>\n",
              "    </tr>\n",
              "    <tr>\n",
              "      <th>3</th>\n",
              "      <td>Abagael</td>\n",
              "      <td>Female</td>\n",
              "    </tr>\n",
              "    <tr>\n",
              "      <th>4</th>\n",
              "      <td>Abagail</td>\n",
              "      <td>Female</td>\n",
              "    </tr>\n",
              "  </tbody>\n",
              "</table>\n",
              "</div>"
            ],
            "text/plain": [
              "      Name  Gender\n",
              "0    Aamir    Male\n",
              "1    Aaron  Female\n",
              "2    Aaron    Male\n",
              "3  Abagael  Female\n",
              "4  Abagail  Female"
            ]
          },
          "metadata": {
            "tags": []
          },
          "execution_count": 2
        }
      ]
    },
    {
      "metadata": {
        "id": "81SnT7tafObh",
        "colab_type": "code",
        "outputId": "7916e3e8-056a-40a3-ce52-9336161ad65b",
        "colab": {
          "base_uri": "https://localhost:8080/",
          "height": 34
        }
      },
      "cell_type": "code",
      "source": [
        "len(names_data)"
      ],
      "execution_count": 3,
      "outputs": [
        {
          "output_type": "execute_result",
          "data": {
            "text/plain": [
              "10132"
            ]
          },
          "metadata": {
            "tags": []
          },
          "execution_count": 3
        }
      ]
    },
    {
      "metadata": {
        "id": "UPVMNZyYfQ2A",
        "colab_type": "code",
        "outputId": "2ecbcf1e-64c2-43b1-e2a7-54d3897d4b48",
        "colab": {
          "base_uri": "https://localhost:8080/",
          "height": 34
        }
      },
      "cell_type": "code",
      "source": [
        "len(names_data['Name'].unique())"
      ],
      "execution_count": 4,
      "outputs": [
        {
          "output_type": "execute_result",
          "data": {
            "text/plain": [
              "9543"
            ]
          },
          "metadata": {
            "tags": []
          },
          "execution_count": 4
        }
      ]
    },
    {
      "metadata": {
        "id": "r6Rm8_hhfWcg",
        "colab_type": "code",
        "colab": {}
      },
      "cell_type": "code",
      "source": [
        "import random\n",
        "\n",
        "names_data=names_data.drop_duplicates(subset=['Name'],keep=random.choice(['first','last']))"
      ],
      "execution_count": 0,
      "outputs": []
    },
    {
      "metadata": {
        "id": "eg-QxF4mfuOg",
        "colab_type": "code",
        "outputId": "160ec6b5-7ae8-4c2b-ffe2-832b311e462d",
        "colab": {
          "base_uri": "https://localhost:8080/",
          "height": 34
        }
      },
      "cell_type": "code",
      "source": [
        "len(names_data)"
      ],
      "execution_count": 6,
      "outputs": [
        {
          "output_type": "execute_result",
          "data": {
            "text/plain": [
              "9543"
            ]
          },
          "metadata": {
            "tags": []
          },
          "execution_count": 6
        }
      ]
    },
    {
      "metadata": {
        "id": "Mom7ahYWfy15",
        "colab_type": "code",
        "outputId": "ba357169-7057-4c70-b572-f5270450d532",
        "colab": {
          "base_uri": "https://localhost:8080/",
          "height": 204
        }
      },
      "cell_type": "code",
      "source": [
        "#https://www.dlology.com/blog/quick-guide-to-run-tensorboard-in-google-colab/\n",
        " \n",
        "from sklearn import preprocessing\n",
        "le=preprocessing.LabelEncoder()  \n",
        "names_data['Gender']=le.fit_transform(names_data['Gender'])\n",
        "names_data.head()"
      ],
      "execution_count": 7,
      "outputs": [
        {
          "output_type": "execute_result",
          "data": {
            "text/html": [
              "<div>\n",
              "<style scoped>\n",
              "    .dataframe tbody tr th:only-of-type {\n",
              "        vertical-align: middle;\n",
              "    }\n",
              "\n",
              "    .dataframe tbody tr th {\n",
              "        vertical-align: top;\n",
              "    }\n",
              "\n",
              "    .dataframe thead th {\n",
              "        text-align: right;\n",
              "    }\n",
              "</style>\n",
              "<table border=\"1\" class=\"dataframe\">\n",
              "  <thead>\n",
              "    <tr style=\"text-align: right;\">\n",
              "      <th></th>\n",
              "      <th>Name</th>\n",
              "      <th>Gender</th>\n",
              "    </tr>\n",
              "  </thead>\n",
              "  <tbody>\n",
              "    <tr>\n",
              "      <th>0</th>\n",
              "      <td>Aamir</td>\n",
              "      <td>1</td>\n",
              "    </tr>\n",
              "    <tr>\n",
              "      <th>2</th>\n",
              "      <td>Aaron</td>\n",
              "      <td>1</td>\n",
              "    </tr>\n",
              "    <tr>\n",
              "      <th>3</th>\n",
              "      <td>Abagael</td>\n",
              "      <td>0</td>\n",
              "    </tr>\n",
              "    <tr>\n",
              "      <th>4</th>\n",
              "      <td>Abagail</td>\n",
              "      <td>0</td>\n",
              "    </tr>\n",
              "    <tr>\n",
              "      <th>5</th>\n",
              "      <td>Abbe</td>\n",
              "      <td>0</td>\n",
              "    </tr>\n",
              "  </tbody>\n",
              "</table>\n",
              "</div>"
            ],
            "text/plain": [
              "      Name  Gender\n",
              "0    Aamir       1\n",
              "2    Aaron       1\n",
              "3  Abagael       0\n",
              "4  Abagail       0\n",
              "5     Abbe       0"
            ]
          },
          "metadata": {
            "tags": []
          },
          "execution_count": 7
        }
      ]
    },
    {
      "metadata": {
        "id": "oxj4XmGL2_q2",
        "colab_type": "code",
        "colab": {}
      },
      "cell_type": "code",
      "source": [
        "genders=['Female','Male']"
      ],
      "execution_count": 0,
      "outputs": []
    },
    {
      "metadata": {
        "id": "U7IobJ-c29i4",
        "colab_type": "code",
        "colab": {}
      },
      "cell_type": "code",
      "source": [
        "import string\n",
        "all_letters=string.ascii_letters+\".,;'\""
      ],
      "execution_count": 0,
      "outputs": []
    },
    {
      "metadata": {
        "id": "pwIxTJp53e0h",
        "colab_type": "code",
        "outputId": "ab7a6184-3ade-4ba6-e3b1-464189f5040c",
        "colab": {
          "base_uri": "https://localhost:8080/",
          "height": 34
        }
      },
      "cell_type": "code",
      "source": [
        "n_letters=len(all_letters)\n",
        "all_letters"
      ],
      "execution_count": 10,
      "outputs": [
        {
          "output_type": "execute_result",
          "data": {
            "text/plain": [
              "\"abcdefghijklmnopqrstuvwxyzABCDEFGHIJKLMNOPQRSTUVWXYZ.,;'\""
            ]
          },
          "metadata": {
            "tags": []
          },
          "execution_count": 10
        }
      ]
    },
    {
      "metadata": {
        "id": "cgR2vq8J3kWa",
        "colab_type": "code",
        "colab": {}
      },
      "cell_type": "code",
      "source": [
        "import torch\n",
        "def name_to_tensor(name):\n",
        "  name_in_tensor=torch.zeros(len(name),1,n_letters)\n",
        "  for i,letter in enumerate(name):\n",
        "    name_in_tensor[i][0][all_letters.find(letter)]=1\n",
        "    \n",
        "  return name_in_tensor"
      ],
      "execution_count": 0,
      "outputs": []
    },
    {
      "metadata": {
        "id": "9EeM80wC4Tva",
        "colab_type": "code",
        "outputId": "29cc079f-c6ef-412c-8937-6fc7cf63869d",
        "colab": {
          "base_uri": "https://localhost:8080/",
          "height": 85
        }
      },
      "cell_type": "code",
      "source": [
        "name_to_tensor('a')"
      ],
      "execution_count": 13,
      "outputs": [
        {
          "output_type": "execute_result",
          "data": {
            "text/plain": [
              "tensor([[[1., 0., 0., 0., 0., 0., 0., 0., 0., 0., 0., 0., 0., 0., 0., 0., 0.,\n",
              "          0., 0., 0., 0., 0., 0., 0., 0., 0., 0., 0., 0., 0., 0., 0., 0., 0.,\n",
              "          0., 0., 0., 0., 0., 0., 0., 0., 0., 0., 0., 0., 0., 0., 0., 0., 0.,\n",
              "          0., 0., 0., 0., 0.]]])"
            ]
          },
          "metadata": {
            "tags": []
          },
          "execution_count": 13
        }
      ]
    },
    {
      "metadata": {
        "id": "-iGv6dyE70dg",
        "colab_type": "code",
        "outputId": "a32fe5d0-c3da-4b1c-b465-310488f45e96",
        "colab": {
          "base_uri": "https://localhost:8080/",
          "height": 68
        }
      },
      "cell_type": "code",
      "source": [
        "# http://pytorch.org/\n",
        "from os.path import exists\n",
        "from wheel.pep425tags import get_abbr_impl, get_impl_ver, get_abi_tag\n",
        "platform = '{}{}-{}'.format(get_abbr_impl(), get_impl_ver(), get_abi_tag())\n",
        "cuda_output = !ldconfig -p|grep cudart.so|sed -e 's/.*\\.\\([0-9]*\\)\\.\\([0-9]*\\)$/cu\\1\\2/'\n",
        "accelerator = cuda_output[0] if exists('/dev/nvidia0') else 'cpu'\n",
        "\n",
        "!pip install -q http://download.pytorch.org/whl/{accelerator}/torch-0.4.1-{platform}-linux_x86_64.whl torchvision\n",
        "import torch"
      ],
      "execution_count": 14,
      "outputs": [
        {
          "output_type": "stream",
          "text": [
            "\u001b[K    100% |████████████████████████████████| 91.1MB 96.7MB/s \n",
            "\u001b[K    100% |████████████████████████████████| 2.0MB 6.6MB/s \n",
            "\u001b[31mfastai 1.0.42 has requirement torch>=1.0.0, but you'll have torch 0.4.1 which is incompatible.\u001b[0m\n",
            "\u001b[?25h"
          ],
          "name": "stdout"
        }
      ]
    },
    {
      "metadata": {
        "id": "r7hz09vh4fIa",
        "colab_type": "code",
        "outputId": "7835b784-3ed6-4c58-bc9a-c13811047ba6",
        "colab": {
          "base_uri": "https://localhost:8080/",
          "height": 170
        }
      },
      "cell_type": "code",
      "source": [
        "name_to_tensor('aA')"
      ],
      "execution_count": 15,
      "outputs": [
        {
          "output_type": "execute_result",
          "data": {
            "text/plain": [
              "tensor([[[1., 0., 0., 0., 0., 0., 0., 0., 0., 0., 0., 0., 0., 0., 0., 0., 0.,\n",
              "          0., 0., 0., 0., 0., 0., 0., 0., 0., 0., 0., 0., 0., 0., 0., 0., 0.,\n",
              "          0., 0., 0., 0., 0., 0., 0., 0., 0., 0., 0., 0., 0., 0., 0., 0., 0.,\n",
              "          0., 0., 0., 0., 0.]],\n",
              "\n",
              "        [[0., 0., 0., 0., 0., 0., 0., 0., 0., 0., 0., 0., 0., 0., 0., 0., 0.,\n",
              "          0., 0., 0., 0., 0., 0., 0., 0., 0., 1., 0., 0., 0., 0., 0., 0., 0.,\n",
              "          0., 0., 0., 0., 0., 0., 0., 0., 0., 0., 0., 0., 0., 0., 0., 0., 0.,\n",
              "          0., 0., 0., 0., 0.]]])"
            ]
          },
          "metadata": {
            "tags": []
          },
          "execution_count": 15
        }
      ]
    },
    {
      "metadata": {
        "id": "flgu5O2B4jKx",
        "colab_type": "code",
        "colab": {}
      },
      "cell_type": "code",
      "source": [
        "import torch.nn as nn\n",
        "\n",
        "class RNN(nn.Module):\n",
        "  def __init__(self,input_size,hidden_size,output_size):\n",
        "    super(RNN,self).__init__()\n",
        "    \n",
        "    self.hidden_size=hidden_size\n",
        "    \n",
        "    self.i2h=nn.Linear(input_size+hidden_size,hidden_size)\n",
        "    self.i2o=nn.Linear(input_size+hidden_size,output_size)\n",
        "    self.softmax=nn.LogSoftmax(dim=1)\n",
        "    \n",
        "  def forward(self,input,hidden):\n",
        "    combined=torch.cat((input,hidden),1)\n",
        "    hidden=self.i2h(combined)\n",
        "    output=self.i2o(combined)\n",
        "    output=self.softmax(output)\n",
        "    \n",
        "    return output,hidden\n",
        "  \n",
        "  def initHidden(self):\n",
        "    return torch.zeros(1,self.hidden_size)"
      ],
      "execution_count": 0,
      "outputs": []
    },
    {
      "metadata": {
        "id": "zqqy1XIu6Day",
        "colab_type": "code",
        "colab": {}
      },
      "cell_type": "code",
      "source": [
        "n_hidden=128\n",
        "n_genders=len(genders)\n",
        "\n",
        "rnn=RNN(n_letters,n_hidden,output_size=n_genders)"
      ],
      "execution_count": 0,
      "outputs": []
    },
    {
      "metadata": {
        "id": "merMp9KU8f1S",
        "colab_type": "code",
        "colab": {}
      },
      "cell_type": "code",
      "source": [
        "iterations=100000\n",
        "\n",
        "criterion=nn.NLLLoss()\n",
        "\n",
        "learning_rate=0.005"
      ],
      "execution_count": 0,
      "outputs": []
    },
    {
      "metadata": {
        "id": "uXkgBfLk85-D",
        "colab_type": "code",
        "colab": {}
      },
      "cell_type": "code",
      "source": [
        "def output_to_gender(output):\n",
        "  top_n,top_index=output.topk(1)\n",
        "  pred_i=top_index[0].item()\n",
        "  \n",
        "  pred=genders[pred_i]\n",
        "  \n",
        "  return pred"
      ],
      "execution_count": 0,
      "outputs": []
    },
    {
      "metadata": {
        "id": "IeviefZx4ada",
        "colab_type": "code",
        "colab": {}
      },
      "cell_type": "code",
      "source": [
        "import random"
      ],
      "execution_count": 0,
      "outputs": []
    },
    {
      "metadata": {
        "id": "YSxNtltP4bFS",
        "colab_type": "code",
        "colab": {
          "base_uri": "https://localhost:8080/",
          "height": 357
        },
        "outputId": "feace1d3-de82-43a3-b13d-5b42f859a88e"
      },
      "cell_type": "code",
      "source": [
        "for iteration in range(1,iterations+1):\n",
        "  i=random.randint(0,len(names_data)-1)\n",
        "  \n",
        "  name=names_data.iloc[i][0]\n",
        "  name_in_tensor=name_to_tensor(name)\n",
        "  \n",
        "  \n",
        "  gender=names_data.iloc[i][1]\n",
        "  gender_in_tensor=torch.LongTensor([gender])\n",
        "  \n",
        "  hidden=rnn.initHidden()\n",
        "  rnn.zero_grad()\n",
        "  \n",
        "  for i in range(name_in_tensor.size()[0]):\n",
        "    output,hidden=rnn(name_in_tensor[i],hidden)\n",
        "    \n",
        "  loss=criterion(output,gender_in_tensor)\n",
        "  loss.backward()\n",
        "  \n",
        "  for p in rnn.parameters():\n",
        "    p.data.add_(-learning_rate,p.grad.data)\n",
        "    \n",
        "  if iteration%5000==0:\n",
        "    pred=output_to_gender(output)\n",
        "    correct='|/' if pred==genders[gender] else 'X (%s)' % genders[gender]\n",
        "    \n",
        "    print('iters- %d %d%% (%s) Name- %s Gender- %s %s' % \\\n",
        "         (iteration,iteration/iterations%100,loss.item(),name,pred,correct) \n",
        "         )\n",
        "    "
      ],
      "execution_count": 38,
      "outputs": [
        {
          "output_type": "stream",
          "text": [
            "iters- 5000 0% (0.034220337867736816) Name- Marnia Gender- Female |/\n",
            "iters- 10000 0% (0.2853567600250244) Name- Cate Gender- Female |/\n",
            "iters- 15000 0% (0.08401787281036377) Name- Marielle Gender- Female |/\n",
            "iters- 20000 0% (0.37546926736831665) Name- Hayley Gender- Female |/\n",
            "iters- 25000 0% (0.003386259078979492) Name- Clotilda Gender- Female |/\n",
            "iters- 30000 0% (0.05859172344207764) Name- Katelyn Gender- Female |/\n",
            "iters- 35000 0% (1.0335400104522705) Name- Elihu Gender- Female X (Male)\n",
            "iters- 40000 0% (0.8002105951309204) Name- Vilhelm Gender- Female X (Male)\n",
            "iters- 45000 0% (0.7762713432312012) Name- Claris Gender- Male X (Female)\n",
            "iters- 50000 0% (0.16530287265777588) Name- Kesley Gender- Female |/\n",
            "iters- 55000 0% (0.0906362533569336) Name- Jeannie Gender- Female |/\n",
            "iters- 60000 0% (0.2479425072669983) Name- Zared Gender- Male |/\n",
            "iters- 65000 0% (0.6551272869110107) Name- Helen Gender- Female |/\n",
            "iters- 70000 0% (2.465412139892578) Name- Fanchon Gender- Male X (Female)\n",
            "iters- 75000 0% (0.5122599005699158) Name- Piotr Gender- Male |/\n",
            "iters- 80000 0% (0.12266600131988525) Name- Lessie Gender- Female |/\n",
            "iters- 85000 0% (0.5256451368331909) Name- Heidy Gender- Female |/\n",
            "iters- 90000 0% (0.018352031707763672) Name- Kara Gender- Female |/\n",
            "iters- 95000 0% (1.056235432624817) Name- Davie Gender- Female X (Male)\n",
            "iters- 100000 1% (0.015581846237182617) Name- Eldora Gender- Female |/\n"
          ],
          "name": "stdout"
        }
      ]
    },
    {
      "metadata": {
        "id": "V37vrIJ2-kfg",
        "colab_type": "text"
      },
      "cell_type": "markdown",
      "source": [
        "**Confiusion Matrix**"
      ]
    },
    {
      "metadata": {
        "id": "zZPcxCSi4YMa",
        "colab_type": "code",
        "colab": {}
      },
      "cell_type": "code",
      "source": [
        "n_confusion=10000\n",
        "\n",
        "prediction=[]\n",
        "actual=[]\n",
        "\n",
        "for _ in range(n_confusion):\n",
        "  i=random.randint(0,len(names_data)-1)\n",
        "  \n",
        "  name=names_data.iloc[i][0]\n",
        "  name_in_tensor=name_to_tensor(name)\n",
        "  \n",
        "  gender_idx=names_data.iloc[i][1]\n",
        "  gender_in_tensor=torch.LongTensor([gender_idx])\n",
        "  \n",
        "  hidden=rnn.initHidden()\n",
        "  \n",
        "  \n",
        "  for j in range(name_in_tensor.size()[0]):\n",
        "    output,hidden=rnn(name_in_tensor[j],hidden)\n",
        "    \n",
        "  pred=output_to_gender(output)\n",
        "  \n",
        "  prediction.append(pred)\n",
        "  actual.append(genders[gender_idx])"
      ],
      "execution_count": 0,
      "outputs": []
    },
    {
      "metadata": {
        "id": "Fla1f4oAAbgA",
        "colab_type": "code",
        "colab": {
          "base_uri": "https://localhost:8080/",
          "height": 326
        },
        "outputId": "1b2eca37-e044-4ed7-8959-d2e24101c8fd"
      },
      "cell_type": "code",
      "source": [
        "!pip install pandas_ml"
      ],
      "execution_count": 44,
      "outputs": [
        {
          "output_type": "stream",
          "text": [
            "Collecting pandas_ml\n",
            "\u001b[?25l  Downloading https://files.pythonhosted.org/packages/8c/cd/efa2c3c4ab89c03184e96692c7e288c8272b08614b52786cbadb3c7b50aa/pandas_ml-0.6.0-py3-none-any.whl (102kB)\n",
            "\u001b[K    100% |████████████████████████████████| 112kB 2.6MB/s \n",
            "\u001b[?25hCollecting enum34 (from pandas_ml)\n",
            "  Downloading https://files.pythonhosted.org/packages/af/42/cb9355df32c69b553e72a2e28daee25d1611d2c0d9c272aa1d34204205b2/enum34-1.1.6-py3-none-any.whl\n",
            "Requirement already satisfied: pandas>=0.19.0 in /usr/local/lib/python3.6/dist-packages (from pandas_ml) (0.22.0)\n",
            "Requirement already satisfied: python-dateutil>=2 in /usr/local/lib/python3.6/dist-packages (from pandas>=0.19.0->pandas_ml) (2.5.3)\n",
            "Requirement already satisfied: numpy>=1.9.0 in /usr/local/lib/python3.6/dist-packages (from pandas>=0.19.0->pandas_ml) (1.14.6)\n",
            "Requirement already satisfied: pytz>=2011k in /usr/local/lib/python3.6/dist-packages (from pandas>=0.19.0->pandas_ml) (2018.9)\n",
            "Requirement already satisfied: six>=1.5 in /usr/local/lib/python3.6/dist-packages (from python-dateutil>=2->pandas>=0.19.0->pandas_ml) (1.11.0)\n",
            "Installing collected packages: enum34, pandas-ml\n",
            "Successfully installed enum34-1.1.6 pandas-ml-0.6.0\n"
          ],
          "name": "stdout"
        },
        {
          "output_type": "display_data",
          "data": {
            "application/vnd.colab-display-data+json": {
              "pip_warning": {
                "packages": [
                  "enum"
                ]
              }
            }
          },
          "metadata": {
            "tags": []
          }
        }
      ]
    },
    {
      "metadata": {
        "id": "qMe6hN5k-j9B",
        "colab_type": "code",
        "colab": {}
      },
      "cell_type": "code",
      "source": [
        "from pandas_ml import ConfusionMatrix\n",
        "\n",
        "import numpy as np\n"
      ],
      "execution_count": 0,
      "outputs": []
    },
    {
      "metadata": {
        "id": "CqoP5cKmAhLj",
        "colab_type": "code",
        "colab": {}
      },
      "cell_type": "code",
      "source": [
        "np_prediction=np.array(prediction)\n",
        "np_actual=np.array(actual)\n"
      ],
      "execution_count": 0,
      "outputs": []
    },
    {
      "metadata": {
        "id": "o9es3MWvA0Q_",
        "colab_type": "code",
        "colab": {
          "base_uri": "https://localhost:8080/",
          "height": 102
        },
        "outputId": "005082a6-78ec-46ea-855c-c4bca2d16377"
      },
      "cell_type": "code",
      "source": [
        "cm=ConfusionMatrix(np.where(np_prediction=='Female',True,False),np.where(np_actual=='Female',True,False))\n",
        "\n",
        "cm"
      ],
      "execution_count": 49,
      "outputs": [
        {
          "output_type": "execute_result",
          "data": {
            "text/plain": [
              "Predicted  False  True  __all__\n",
              "Actual                         \n",
              "False       2037   542     2579\n",
              "True        1261  6160     7421\n",
              "__all__     3298  6702    10000"
            ]
          },
          "metadata": {
            "tags": []
          },
          "execution_count": 49
        }
      ]
    },
    {
      "metadata": {
        "id": "mPYYkDbLAzLv",
        "colab_type": "code",
        "colab": {
          "base_uri": "https://localhost:8080/",
          "height": 512
        },
        "outputId": "106c6c84-8191-4744-ce5a-928462b29b93"
      },
      "cell_type": "code",
      "source": [
        "import matplotlib.pyplot as plt\n",
        "\n",
        "cm.plot(normalized=True)\n",
        "plt.show"
      ],
      "execution_count": 50,
      "outputs": [
        {
          "output_type": "execute_result",
          "data": {
            "text/plain": [
              "<function matplotlib.pyplot.show>"
            ]
          },
          "metadata": {
            "tags": []
          },
          "execution_count": 50
        },
        {
          "output_type": "display_data",
          "data": {
            "image/png": "[encoded data removed]",
            "text/plain": [
              "<Figure size 648x576 with 2 Axes>"
            ]
          },
          "metadata": {
            "tags": []
          }
        }
      ]
    },
    {
      "metadata": {
        "id": "cZLaMR-9BYW6",
        "colab_type": "code",
        "colab": {}
      },
      "cell_type": "code",
      "source": [
        "  "
      ],
      "execution_count": 0,
      "outputs": []
    },
    {
      "metadata": {
        "id": "0BpY7JL3AyP3",
        "colab_type": "code",
        "colab": {}
      },
      "cell_type": "code",
      "source": [
        ""
      ],
      "execution_count": 0,
      "outputs": []
    }
  ]
}