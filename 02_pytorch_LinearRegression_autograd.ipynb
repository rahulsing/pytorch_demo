{
  "nbformat": 4,
  "nbformat_minor": 0,
  "metadata": {
    "colab": {
      "name": "Untitled0.ipynb",
      "version": "0.3.2",
      "provenance": [],
      "include_colab_link": true
    },
    "kernelspec": {
      "name": "python3",
      "display_name": "Python 3"
    }
  },
  "cells": [
    {
      "cell_type": "markdown",
      "metadata": {
        "id": "view-in-github",
        "colab_type": "text"
      },
      "source": [
        "<a href=\"https://colab.research.google.com/github/rahulsing/pytorch_demo/blob/master/01_pytorch_LinearRegression_autograd.ipynb\" target=\"_parent\"><img src=\"https://colab.research.google.com/assets/colab-badge.svg\" alt=\"Open In Colab\"/></a>"
      ]
    },
    {
      "metadata": {
        "id": "_FS4z7W_Ngt-",
        "colab_type": "code",
        "colab": {}
      },
      "cell_type": "code",
      "source": [
        "import numpy as np\n",
        "import matplotlib.pyplot as plt"
      ],
      "execution_count": 0,
      "outputs": []
    },
    {
      "metadata": {
        "id": "DlO87cpfNr_t",
        "colab_type": "code",
        "colab": {}
      },
      "cell_type": "code",
      "source": [
        "x_train=np.array([[3.3],[4.4],[5.5],[6.71],[6.93],[4.168],[9.779],[6.182],[7.59],[2.167],[7.042],[10.791],[5.313],[7.997],[3.1]],dtype=np.float32)\n",
        "y_train=np.array([[1.7],[2.76],[2.09],[3.19],[1.694],[1.573],[3.366],[2.596],[2.53],[1.221],[2.827],[3.465],[1.65],[2.904],[1.3]],dtype=np.float32)"
      ],
      "execution_count": 0,
      "outputs": []
    },
    {
      "metadata": {
        "id": "Ad7elZNPPPM1",
        "colab_type": "text"
      },
      "cell_type": "markdown",
      "source": [
        "x : featur\n",
        "y : label\n",
        "ramdon generated x and y for a simple linear regression example"
      ]
    },
    {
      "metadata": {
        "id": "GFkYAq3rPab8",
        "colab_type": "code",
        "colab": {
          "base_uri": "https://localhost:8080/",
          "height": 364
        },
        "outputId": "48bdd97f-d14b-40dd-90c4-56c15a7eaca1"
      },
      "cell_type": "code",
      "source": [
        "plt.plot(x_train,y_train,'ro',label='Orignal data')\n",
        "plt.show"
      ],
      "execution_count": 102,
      "outputs": [
        {
          "output_type": "execute_result",
          "data": {
            "text/plain": [
              "<function matplotlib.pyplot.show>"
            ]
          },
          "metadata": {
            "tags": []
          },
          "execution_count": 102
        },
        {
          "output_type": "display_data",
          "data": {
            "image/png": "[encoded data removed]",
            "text/plain": [
              "<matplotlib.figure.Figure at 0x7f59585ae390>"
            ]
          },
          "metadata": {
            "tags": []
          }
        }
      ]
    },
    {
      "metadata": {
        "id": "CIcFOM6XPtDu",
        "colab_type": "text"
      },
      "cell_type": "markdown",
      "source": [
        "Convert x and y data to tensor"
      ]
    },
    {
      "metadata": {
        "id": "CqYhOGYjP288",
        "colab_type": "code",
        "colab": {}
      },
      "cell_type": "code",
      "source": [
        "\n",
        "# http://pytorch.org/\n",
        "from os.path import exists\n",
        "from wheel.pep425tags import get_abbr_impl, get_impl_ver, get_abi_tag\n",
        "platform = '{}{}-{}'.format(get_abbr_impl(), get_impl_ver(), get_abi_tag())\n",
        "cuda_output = !ldconfig -p|grep cudart.so|sed -e 's/.*\\.\\([0-9]*\\)\\.\\([0-9]*\\)$/cu\\1\\2/'\n",
        "accelerator = cuda_output[0] if exists('/dev/nvidia0') else 'cpu'\n",
        "\n",
        "!pip install -q http://download.pytorch.org/whl/{accelerator}/torch-0.4.1-{platform}-linux_x86_64.whl torchvision\n",
        "import torch"
      ],
      "execution_count": 0,
      "outputs": []
    },
    {
      "metadata": {
        "id": "UJAlROgYPrXV",
        "colab_type": "code",
        "colab": {
          "base_uri": "https://localhost:8080/",
          "height": 51
        },
        "outputId": "bec9dd6c-e22b-4f68-d716-36efcf0b91c0"
      },
      "cell_type": "code",
      "source": [
        "X_train=torch.from_numpy(x_train)\n",
        "Y_train=torch.from_numpy(y_train)\n",
        "\n",
        "print('requires_grad for X_train: ',X_train.requires_grad)\n",
        "print('requires_grad for Y_train: ',Y_train.requires_grad)"
      ],
      "execution_count": 103,
      "outputs": [
        {
          "output_type": "stream",
          "text": [
            "requires_grad for X_train:  False\n",
            "requires_grad for Y_train:  False\n"
          ],
          "name": "stdout"
        }
      ]
    },
    {
      "metadata": {
        "id": "wBzI0v55Tjwa",
        "colab_type": "text"
      },
      "cell_type": "markdown",
      "source": [
        "create a NN with single layer and 100 neurons and ReLU activation"
      ]
    },
    {
      "metadata": {
        "id": "9WrLVMY0QAkW",
        "colab_type": "code",
        "colab": {}
      },
      "cell_type": "code",
      "source": [
        "input_size=1 # feature\n",
        "hidden_size=100\n",
        "output_size=1\n",
        "learning_rate=1e-6 # factor by which we adjust our weights for every epoch \n",
        "  "
      ],
      "execution_count": 0,
      "outputs": []
    },
    {
      "metadata": {
        "id": "0EeUoOWnUQtf",
        "colab_type": "code",
        "colab": {
          "base_uri": "https://localhost:8080/",
          "height": 34
        },
        "outputId": "dffffa7d-333f-4468-eaea-41393854b872"
      },
      "cell_type": "code",
      "source": [
        "# random array of weights, matrix of input X Hidden\n",
        "w1=torch.rand(input_size,hidden_size,requires_grad=True)\n",
        "w1.shape\n",
        "\n",
        "# 100 neurons and 1 feature\n",
        "#torch.Size([1, 100])"
      ],
      "execution_count": 106,
      "outputs": [
        {
          "output_type": "execute_result",
          "data": {
            "text/plain": [
              "torch.Size([1, 100])"
            ]
          },
          "metadata": {
            "tags": []
          },
          "execution_count": 106
        }
      ]
    },
    {
      "metadata": {
        "id": "57HT2QI_VAVN",
        "colab_type": "code",
        "colab": {
          "base_uri": "https://localhost:8080/",
          "height": 34
        },
        "outputId": "e8d25647-4e88-4bfa-f061-31808b22a533"
      },
      "cell_type": "code",
      "source": [
        "w2=torch.rand(hidden_size,output_size,requires_grad=True)\n",
        "w2.shape\n",
        "\n",
        "#torch.Size([100, 1])"
      ],
      "execution_count": 107,
      "outputs": [
        {
          "output_type": "execute_result",
          "data": {
            "text/plain": [
              "torch.Size([100, 1])"
            ]
          },
          "metadata": {
            "tags": []
          },
          "execution_count": 107
        }
      ]
    },
    {
      "metadata": {
        "id": "3fdpnXFNbw_-",
        "colab_type": "code",
        "colab": {
          "base_uri": "https://localhost:8080/",
          "height": 34
        },
        "outputId": "50665507-7be4-4b30-c93a-dfd3789cd391"
      },
      "cell_type": "code",
      "source": [
        "type(w1.data.zero_)\n"
      ],
      "execution_count": 108,
      "outputs": [
        {
          "output_type": "execute_result",
          "data": {
            "text/plain": [
              "builtin_function_or_method"
            ]
          },
          "metadata": {
            "tags": []
          },
          "execution_count": 108
        }
      ]
    },
    {
      "metadata": {
        "id": "akcNOujccLp-",
        "colab_type": "code",
        "colab": {
          "base_uri": "https://localhost:8080/",
          "height": 34
        },
        "outputId": "3ad3be12-df29-4e08-d737-f0ab058375a6"
      },
      "cell_type": "code",
      "source": [
        "type(learning_rate)"
      ],
      "execution_count": 109,
      "outputs": [
        {
          "output_type": "execute_result",
          "data": {
            "text/plain": [
              "float"
            ]
          },
          "metadata": {
            "tags": []
          },
          "execution_count": 109
        }
      ]
    },
    {
      "metadata": {
        "id": "_kuUnUY8VTrl",
        "colab_type": "code",
        "colab": {
          "base_uri": "https://localhost:8080/",
          "height": 170
        },
        "outputId": "86e0507f-ff19-4e0f-98f9-7a0f5e6b6b16"
      },
      "cell_type": "code",
      "source": [
        "# run training for 300 epoch\n",
        "for iter in range(1,300):\n",
        "  # manually crafter single layer neural network\n",
        "  # first :  Affine transformation :  X_train.mm(w1)\n",
        "  # mm : matrix multiplication\n",
        "  # second : ReLU Activation funcation : clamp(min=0) , cplam negative number to zero i.e ReLU ativ fun\n",
        "  # \n",
        "  y_pred=X_train.mm(w1).clamp(min=0).mm(w2)\n",
        "  \n",
        "  # linear regration function\n",
        "  # MSE loss i.e. sum of the square of the differences between actual predicted values\n",
        "  loss=(y_pred-Y_train).pow(2).sum()\n",
        "  \n",
        "  if iter % 30 ==0:\n",
        "    print(iter,loss.item())\n",
        "  \n",
        "  #use autograd for an automated way of implementing the backward pass through the neural network\n",
        "  # computes gradient of loss with respect to all tensors which have requires_grad=True\n",
        "  loss.backward()\n",
        "  \n",
        "  #manually updating weights using gradients, stop atuograd tracking history on tensors\n",
        "  with torch.no_grad():\n",
        "    #w1-=learning_rate * float(w1.grad or 0) #w1.grad\n",
        "    w1 -= learning_rate * (w1.grad) #w1.grad\n",
        "    w2 -= learning_rate * (w2.grad) #w2.grad\n",
        "    \n",
        "    # once model weights are adjusted, manully zero out the gradients on the weights, for the next forward pass \n",
        "    #float(w1.grad or 0).zero_()\n",
        "    #w1.data.zero_()\n",
        "    w1.grad.zero_()\n",
        "    w2.grad.zero_()"
      ],
      "execution_count": 110,
      "outputs": [
        {
          "output_type": "stream",
          "text": [
            "30 14032.4638671875\n",
            "60 982.8765869140625\n",
            "90 79.47832489013672\n",
            "120 9.781448364257812\n",
            "150 4.137667179107666\n",
            "180 3.674114942550659\n",
            "210 3.636035442352295\n",
            "240 3.6329076290130615\n",
            "270 3.6326470375061035\n"
          ],
          "name": "stdout"
        }
      ]
    },
    {
      "metadata": {
        "id": "48XH8J3IVAlc",
        "colab_type": "text"
      },
      "cell_type": "markdown",
      "source": [
        ""
      ]
    },
    {
      "metadata": {
        "id": "actIBuUiibyo",
        "colab_type": "code",
        "colab": {
          "base_uri": "https://localhost:8080/",
          "height": 1938
        },
        "outputId": "d9ec8486-6f4d-456c-b5b2-0283b7e56141"
      },
      "cell_type": "code",
      "source": [
        "print('w1 ',w1)\n",
        "print('w2 ',w2)"
      ],
      "execution_count": 111,
      "outputs": [
        {
          "output_type": "stream",
          "text": [
            "w1  tensor([[ 0.8228, -0.0001,  0.5459,  1.0708,  0.3256, -0.0003,  0.1301,  0.0888,\n",
            "         -0.0033,  0.5692,  0.5316,  0.3982, -0.0018,  0.2555,  0.8516,  0.3539,\n",
            "          0.4999, -0.0001, -0.0009,  0.2674, -0.0077,  0.1335,  0.1754,  0.1754,\n",
            "          0.1501,  0.8668, -0.0063, -0.0008,  0.1951, -0.0001,  0.2964,  0.1239,\n",
            "          0.4697,  0.4923,  0.6259, -0.0064,  0.6256, -0.0033,  0.3428,  0.2462,\n",
            "          0.6545,  0.5742,  0.6663,  0.0360, -0.0052,  0.2478,  0.0110,  0.6091,\n",
            "          0.0406,  0.8902,  0.2559,  0.2731,  0.7475,  0.4643,  0.2175,  0.9712,\n",
            "         -0.0043, -0.0014, -0.0058,  0.3675,  0.9358, -0.0026,  0.8398,  0.7515,\n",
            "         -0.0035,  0.3629,  0.3725,  0.7134, -0.0034,  0.3484,  0.4476, -0.0117,\n",
            "         -0.0042,  0.1429,  0.0591,  0.1038,  0.7724,  0.3714, -0.0124, -0.0007,\n",
            "          0.7035,  0.0907,  0.0570, -0.0039, -0.0327,  0.0813,  0.0331,  1.0575,\n",
            "          0.5589,  0.0628, -0.0087,  0.5715,  0.6873,  0.0247,  0.9274,  0.7871,\n",
            "          0.7680,  0.5324,  1.1052,  0.5216]], requires_grad=True)\n",
            "w2  tensor([[ 0.0226],\n",
            "        [ 0.7806],\n",
            "        [-0.1811],\n",
            "        [-0.4939],\n",
            "        [ 0.4101],\n",
            "        [ 0.3713],\n",
            "        [ 0.1954],\n",
            "        [ 0.5924],\n",
            "        [ 0.8659],\n",
            "        [-0.0538],\n",
            "        [-0.2451],\n",
            "        [ 0.3683],\n",
            "        [ 0.8926],\n",
            "        [ 0.6532],\n",
            "        [-0.1964],\n",
            "        [ 0.3315],\n",
            "        [ 0.5150],\n",
            "        [ 0.9282],\n",
            "        [ 0.8641],\n",
            "        [ 0.3359],\n",
            "        [ 0.6668],\n",
            "        [ 0.2686],\n",
            "        [ 0.1986],\n",
            "        [ 0.1273],\n",
            "        [ 0.4731],\n",
            "        [-0.1563],\n",
            "        [ 0.6847],\n",
            "        [ 0.4531],\n",
            "        [ 0.1738],\n",
            "        [ 0.6437],\n",
            "        [ 0.0425],\n",
            "        [ 0.4721],\n",
            "        [ 0.3634],\n",
            "        [ 0.5051],\n",
            "        [ 0.1689],\n",
            "        [ 0.5494],\n",
            "        [ 0.2810],\n",
            "        [ 0.5733],\n",
            "        [ 0.6183],\n",
            "        [-0.0438],\n",
            "        [ 0.3621],\n",
            "        [ 0.0501],\n",
            "        [ 0.3225],\n",
            "        [ 0.8059],\n",
            "        [ 0.4693],\n",
            "        [ 0.7000],\n",
            "        [ 0.6883],\n",
            "        [ 0.2211],\n",
            "        [ 0.4541],\n",
            "        [-0.3071],\n",
            "        [ 0.1915],\n",
            "        [-0.0195],\n",
            "        [-0.0198],\n",
            "        [ 0.0897],\n",
            "        [ 0.3661],\n",
            "        [-0.4554],\n",
            "        [ 0.8922],\n",
            "        [ 0.6962],\n",
            "        [ 0.6277],\n",
            "        [ 0.4453],\n",
            "        [-0.4590],\n",
            "        [ 0.4705],\n",
            "        [-0.3596],\n",
            "        [ 0.0592],\n",
            "        [ 0.3124],\n",
            "        [ 0.2375],\n",
            "        [ 0.3297],\n",
            "        [ 0.1982],\n",
            "        [ 0.6701],\n",
            "        [-0.1519],\n",
            "        [ 0.1375],\n",
            "        [ 0.6970],\n",
            "        [ 0.6812],\n",
            "        [ 0.4291],\n",
            "        [ 0.8132],\n",
            "        [-0.0251],\n",
            "        [-0.3533],\n",
            "        [ 0.1879],\n",
            "        [ 0.5240],\n",
            "        [ 0.6319],\n",
            "        [-0.0190],\n",
            "        [ 0.7486],\n",
            "        [ 0.5698],\n",
            "        [ 0.3340],\n",
            "        [ 0.9876],\n",
            "        [ 0.0867],\n",
            "        [ 0.6755],\n",
            "        [-0.4426],\n",
            "        [ 0.1613],\n",
            "        [ 0.3199],\n",
            "        [ 0.9397],\n",
            "        [ 0.3281],\n",
            "        [ 0.1312],\n",
            "        [ 0.5755],\n",
            "        [-0.1965],\n",
            "        [-0.0591],\n",
            "        [-0.1084],\n",
            "        [ 0.1756],\n",
            "        [-0.5308],\n",
            "        [ 0.0313]], requires_grad=True)\n"
          ],
          "name": "stdout"
        }
      ]
    },
    {
      "metadata": {
        "id": "xKx-FIQyjOBH",
        "colab_type": "code",
        "colab": {
          "base_uri": "https://localhost:8080/",
          "height": 272
        },
        "outputId": "455f3849-bd47-4db9-c07d-9d402840f9ac"
      },
      "cell_type": "code",
      "source": [
        "x_train_tensor=torch.from_numpy(x_train)\n",
        "x_train_tensor"
      ],
      "execution_count": 112,
      "outputs": [
        {
          "output_type": "execute_result",
          "data": {
            "text/plain": [
              "tensor([[ 3.3000],\n",
              "        [ 4.4000],\n",
              "        [ 5.5000],\n",
              "        [ 6.7100],\n",
              "        [ 6.9300],\n",
              "        [ 4.1680],\n",
              "        [ 9.7790],\n",
              "        [ 6.1820],\n",
              "        [ 7.5900],\n",
              "        [ 2.1670],\n",
              "        [ 7.0420],\n",
              "        [10.7910],\n",
              "        [ 5.3130],\n",
              "        [ 7.9970],\n",
              "        [ 3.1000]])"
            ]
          },
          "metadata": {
            "tags": []
          },
          "execution_count": 112
        }
      ]
    },
    {
      "metadata": {
        "id": "-ZPSsEnhjiZr",
        "colab_type": "code",
        "colab": {
          "base_uri": "https://localhost:8080/",
          "height": 272
        },
        "outputId": "80dcc45c-e6c7-4bf5-b0c7-b4172544a3fa"
      },
      "cell_type": "code",
      "source": [
        "#calcuate the predicted values using the trained weights\n",
        "predicted_in_tensor=x_train_tensor.mm(w1).clamp(min=0).mm(w2)\n",
        "predicted_in_tensor"
      ],
      "execution_count": 114,
      "outputs": [
        {
          "output_type": "execute_result",
          "data": {
            "text/plain": [
              "tensor([[1.2117],\n",
              "        [1.6156],\n",
              "        [2.0194],\n",
              "        [2.4637],\n",
              "        [2.5445],\n",
              "        [1.5304],\n",
              "        [3.5906],\n",
              "        [2.2699],\n",
              "        [2.7868],\n",
              "        [0.7957],\n",
              "        [2.5856],\n",
              "        [3.9621],\n",
              "        [1.9508],\n",
              "        [2.9363],\n",
              "        [1.1382]], grad_fn=<MmBackward>)"
            ]
          },
          "metadata": {
            "tags": []
          },
          "execution_count": 114
        }
      ]
    },
    {
      "metadata": {
        "id": "iQ0N5fZ7j6yX",
        "colab_type": "code",
        "colab": {
          "base_uri": "https://localhost:8080/",
          "height": 272
        },
        "outputId": "2bcfc448-4357-455b-e06f-f9e05cf7af26"
      },
      "cell_type": "code",
      "source": [
        "# detach the tensor from current graph so no  gredient are computed on the new tensor\n",
        "predicted=predicted_in_tensor.detach().numpy()\n",
        "predicted"
      ],
      "execution_count": 117,
      "outputs": [
        {
          "output_type": "execute_result",
          "data": {
            "text/plain": [
              "array([[1.2116663 ],\n",
              "       [1.6155553 ],\n",
              "       [2.019445  ],\n",
              "       [2.4637222 ],\n",
              "       [2.5444999 ],\n",
              "       [1.5303721 ],\n",
              "       [3.5905724 ],\n",
              "       [2.269855  ],\n",
              "       [2.7868328 ],\n",
              "       [0.79566085],\n",
              "       [2.5856237 ],\n",
              "       [3.9621487 ],\n",
              "       [1.9507837 ],\n",
              "       [2.9362712 ],\n",
              "       [1.1382322 ]], dtype=float32)"
            ]
          },
          "metadata": {
            "tags": []
          },
          "execution_count": 117
        }
      ]
    },
    {
      "metadata": {
        "id": "gIikcj4GkSvu",
        "colab_type": "code",
        "colab": {
          "base_uri": "https://localhost:8080/",
          "height": 347
        },
        "outputId": "868c2426-4092-48a2-8572-002fdca6384f"
      },
      "cell_type": "code",
      "source": [
        "plt.plot(x_train,y_train,'ro',label='Orignal data')\n",
        "plt.plot(x_train,predicted,label='Fitted line')\n",
        "plt.legend()\n",
        "plt.show()"
      ],
      "execution_count": 118,
      "outputs": [
        {
          "output_type": "display_data",
          "data": {
            "image/png": "[encoded data removed]",
            "text/plain": [
              "<matplotlib.figure.Figure at 0x7f59620d5240>"
            ]
          },
          "metadata": {
            "tags": []
          }
        }
      ]
    }
  ]
}
