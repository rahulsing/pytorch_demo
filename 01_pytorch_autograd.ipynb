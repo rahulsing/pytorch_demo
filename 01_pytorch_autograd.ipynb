{
  "nbformat": 4,
  "nbformat_minor": 0,
  "metadata": {
    "colab": {
      "name": "Untitled2.ipynb",
      "version": "0.3.2",
      "provenance": [],
      "include_colab_link": true
    },
    "kernelspec": {
      "name": "python3",
      "display_name": "Python 3"
    }
  },
  "cells": [
    {
      "cell_type": "markdown",
      "metadata": {
        "id": "view-in-github",
        "colab_type": "text"
      },
      "source": [
        "<a href=\"https://colab.research.google.com/github/rahulsing/pytorch_demo/blob/master/01_pytorch_autograd.ipynb\" target=\"_parent\"><img src=\"https://colab.research.google.com/assets/colab-badge.svg\" alt=\"Open In Colab\"/></a>"
      ]
    },
    {
      "metadata": {
        "id": "F7A5GZXiJjLo",
        "colab_type": "text"
      },
      "cell_type": "markdown",
      "source": [
        "**Autograd** is core package in PyTorch. This is the package which **performs automatic differentiation to calculate gradients during the training phase **of a neural network. In a neural network, you have tensors and you perform operations on them. Autograd **remembers all of the executed operations that you've performed in the forward phase of your neural network prediction, it then replays these operations in the backward phase **or the back propagation in order to calculate gradients."
      ]
    },
    {
      "metadata": {
        "id": "oF0_hTRm7tFS",
        "colab_type": "code",
        "colab": {}
      },
      "cell_type": "code",
      "source": [
        "# http://pytorch.org/\n",
        "from os.path import exists\n",
        "from wheel.pep425tags import get_abbr_impl, get_impl_ver, get_abi_tag\n",
        "platform = '{}{}-{}'.format(get_abbr_impl(), get_impl_ver(), get_abi_tag())\n",
        "cuda_output = !ldconfig -p|grep cudart.so|sed -e 's/.*\\.\\([0-9]*\\)\\.\\([0-9]*\\)$/cu\\1\\2/'\n",
        "accelerator = cuda_output[0] if exists('/dev/nvidia0') else 'cpu'\n",
        "\n",
        "!pip install -q http://download.pytorch.org/whl/{accelerator}/torch-0.4.1-{platform}-linux_x86_64.whl torchvision\n",
        "import torch"
      ],
      "execution_count": 0,
      "outputs": []
    },
    {
      "metadata": {
        "id": "t_yGjy1H76rz",
        "colab_type": "code",
        "outputId": "c31b35c7-1819-4db4-d42a-52dbf3dbd84a",
        "colab": {
          "base_uri": "https://localhost:8080/",
          "height": 51
        }
      },
      "cell_type": "code",
      "source": [
        "import torch\n",
        "\n",
        "tensor = torch.Tensor([[3,4],[7,5]])\n",
        "tensor"
      ],
      "execution_count": 3,
      "outputs": [
        {
          "output_type": "execute_result",
          "data": {
            "text/plain": [
              "tensor([[3., 4.],\n",
              "        [7., 5.]])"
            ]
          },
          "metadata": {
            "tags": []
          },
          "execution_count": 3
        }
      ]
    },
    {
      "metadata": {
        "id": "S57VktbV8Q08",
        "colab_type": "code",
        "outputId": "85283178-20df-4390-8976-78cb9cdccfac",
        "colab": {
          "base_uri": "https://localhost:8080/",
          "height": 34
        }
      },
      "cell_type": "code",
      "source": [
        "tensor.requires_grad"
      ],
      "execution_count": 4,
      "outputs": [
        {
          "output_type": "execute_result",
          "data": {
            "text/plain": [
              "False"
            ]
          },
          "metadata": {
            "tags": []
          },
          "execution_count": 4
        }
      ]
    },
    {
      "metadata": {
        "id": "jDU3Z3in8eUe",
        "colab_type": "code",
        "outputId": "0c33acc0-5d31-460b-9f90-215d6ccfdce4",
        "colab": {
          "base_uri": "https://localhost:8080/",
          "height": 51
        }
      },
      "cell_type": "code",
      "source": [
        "tensor.requires_grad_()"
      ],
      "execution_count": 5,
      "outputs": [
        {
          "output_type": "execute_result",
          "data": {
            "text/plain": [
              "tensor([[3., 4.],\n",
              "        [7., 5.]], requires_grad=True)"
            ]
          },
          "metadata": {
            "tags": []
          },
          "execution_count": 5
        }
      ]
    },
    {
      "metadata": {
        "id": "voUZ9qoQ8tFz",
        "colab_type": "code",
        "outputId": "47badba6-de25-4242-83f5-dfed610e010a",
        "colab": {
          "base_uri": "https://localhost:8080/",
          "height": 34
        }
      },
      "cell_type": "code",
      "source": [
        "tensor.requires_grad"
      ],
      "execution_count": 0,
      "outputs": [
        {
          "output_type": "execute_result",
          "data": {
            "text/plain": [
              "True"
            ]
          },
          "metadata": {
            "tags": []
          },
          "execution_count": 10
        }
      ]
    },
    {
      "metadata": {
        "id": "I8OShuwQ8yRz",
        "colab_type": "code",
        "outputId": "1ac18b34-5122-4017-91c6-d0f0bb7d3165",
        "colab": {
          "base_uri": "https://localhost:8080/",
          "height": 34
        }
      },
      "cell_type": "code",
      "source": [
        "print(tensor.grad)"
      ],
      "execution_count": 8,
      "outputs": [
        {
          "output_type": "stream",
          "text": [
            "None\n"
          ],
          "name": "stdout"
        }
      ]
    },
    {
      "metadata": {
        "id": "xY1qgjUp86Kr",
        "colab_type": "code",
        "outputId": "cdaff7bb-88f1-4571-b34c-80da812a1f2b",
        "colab": {
          "base_uri": "https://localhost:8080/",
          "height": 34
        }
      },
      "cell_type": "code",
      "source": [
        "print(tensor.grad_fn)"
      ],
      "execution_count": 9,
      "outputs": [
        {
          "output_type": "stream",
          "text": [
            "None\n"
          ],
          "name": "stdout"
        }
      ]
    },
    {
      "metadata": {
        "id": "irfVoOhy9ArM",
        "colab_type": "code",
        "colab": {}
      },
      "cell_type": "code",
      "source": [
        "out = tensor * tensor"
      ],
      "execution_count": 0,
      "outputs": []
    },
    {
      "metadata": {
        "id": "MK1a0_7n9FWt",
        "colab_type": "code",
        "outputId": "6377854a-57d7-45c3-94ef-0ca6137b9d11",
        "colab": {
          "base_uri": "https://localhost:8080/",
          "height": 34
        }
      },
      "cell_type": "code",
      "source": [
        "out.requires_grad"
      ],
      "execution_count": 11,
      "outputs": [
        {
          "output_type": "execute_result",
          "data": {
            "text/plain": [
              "True"
            ]
          },
          "metadata": {
            "tags": []
          },
          "execution_count": 11
        }
      ]
    },
    {
      "metadata": {
        "id": "nGLv4Zns9Mxk",
        "colab_type": "code",
        "outputId": "6ed856a6-c1b2-4a5d-dd16-04c0f60e1cee",
        "colab": {
          "base_uri": "https://localhost:8080/",
          "height": 34
        }
      },
      "cell_type": "code",
      "source": [
        "print(out.grad_fn)"
      ],
      "execution_count": 12,
      "outputs": [
        {
          "output_type": "stream",
          "text": [
            "<ThMulBackward object at 0x7f378b9fc208>\n"
          ],
          "name": "stdout"
        }
      ]
    },
    {
      "metadata": {
        "id": "Kiw7aK6B9WZT",
        "colab_type": "code",
        "outputId": "9d755814-8463-4e11-b064-a23527188c5d",
        "colab": {
          "base_uri": "https://localhost:8080/",
          "height": 34
        }
      },
      "cell_type": "code",
      "source": [
        "print(tensor.grad_fn)"
      ],
      "execution_count": 13,
      "outputs": [
        {
          "output_type": "stream",
          "text": [
            "None\n"
          ],
          "name": "stdout"
        }
      ]
    },
    {
      "metadata": {
        "id": "97SHV8R49aWr",
        "colab_type": "code",
        "colab": {}
      },
      "cell_type": "code",
      "source": [
        "out = (tensor * tensor).mean()\n",
        "#print(out.grad_fn)\n"
      ],
      "execution_count": 0,
      "outputs": []
    },
    {
      "metadata": {
        "id": "99bWt52N-O2k",
        "colab_type": "code",
        "outputId": "5136d4d2-7a6f-4ef0-a6ad-399bbe397cad",
        "colab": {
          "base_uri": "https://localhost:8080/",
          "height": 34
        }
      },
      "cell_type": "code",
      "source": [
        "print(out.grad_fn)"
      ],
      "execution_count": 21,
      "outputs": [
        {
          "output_type": "stream",
          "text": [
            "<MeanBackward1 object at 0x7f3781faa400>\n"
          ],
          "name": "stdout"
        }
      ]
    },
    {
      "metadata": {
        "id": "Sx8cI1Jw-qH8",
        "colab_type": "text"
      },
      "cell_type": "markdown",
      "source": [
        ""
      ]
    },
    {
      "metadata": {
        "id": "udmgnw_T-rLN",
        "colab_type": "code",
        "colab": {}
      },
      "cell_type": "code",
      "source": [
        "out.backward()"
      ],
      "execution_count": 0,
      "outputs": []
    },
    {
      "metadata": {
        "id": "tlqEIOVT_Ujl",
        "colab_type": "code",
        "outputId": "0655f7f1-2f89-482a-cc83-aaff3cb8d663",
        "colab": {
          "base_uri": "https://localhost:8080/",
          "height": 51
        }
      },
      "cell_type": "code",
      "source": [
        "print(tensor.grad)"
      ],
      "execution_count": 23,
      "outputs": [
        {
          "output_type": "stream",
          "text": [
            "tensor([[3., 4.],\n",
            "        [7., 5.]])\n"
          ],
          "name": "stdout"
        }
      ]
    },
    {
      "metadata": {
        "id": "TkGBJfX-_bJM",
        "colab_type": "code",
        "outputId": "fd766beb-6ee6-46fe-92f2-dc96986ae725",
        "colab": {
          "base_uri": "https://localhost:8080/",
          "height": 34
        }
      },
      "cell_type": "code",
      "source": [
        "new_tensor = tensor * tensor\n",
        "print(new_tensor.requires_grad)"
      ],
      "execution_count": 24,
      "outputs": [
        {
          "output_type": "stream",
          "text": [
            "True\n"
          ],
          "name": "stdout"
        }
      ]
    },
    {
      "metadata": {
        "id": "lmZj0GeH_t2E",
        "colab_type": "code",
        "outputId": "8437a78e-8bff-4461-a98d-428dabf3dfeb",
        "colab": {
          "base_uri": "https://localhost:8080/",
          "height": 85
        }
      },
      "cell_type": "code",
      "source": [
        "with torch.no_grad():\n",
        "  new_tensor = tensor * tensor\n",
        "  print('new_tensor = ',new_tensor)\n",
        "  print('requires_grad for tensor = ',tensor.requires_grad)\n",
        "  print('requires_grad for new_tensor = ',new_tensor.requires_grad)\n",
        "   "
      ],
      "execution_count": 25,
      "outputs": [
        {
          "output_type": "stream",
          "text": [
            "new_tensor =  tensor([[ 9., 16.],\n",
            "        [49., 25.]])\n",
            "requires_grad for tensor =  True\n",
            "requires_grad for new_tensor =  False\n"
          ],
          "name": "stdout"
        }
      ]
    }
  ]
}